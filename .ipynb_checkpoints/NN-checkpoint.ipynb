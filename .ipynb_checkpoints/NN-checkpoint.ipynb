{
 "cells": [
  {
   "cell_type": "code",
   "execution_count": 6,
   "metadata": {
    "collapsed": true
   },
   "outputs": [],
   "source": [
    "import numpy as np"
   ]
  },
  {
   "cell_type": "markdown",
   "metadata": {},
   "source": [
    "$ f(x) = \\sum_{i=1}^{n} w_{ji} x_i $"
   ]
  },
  {
   "cell_type": "code",
   "execution_count": 7,
   "metadata": {},
   "outputs": [],
   "source": [
    "def act(x):\n",
    "    return 0 if x < 0.5 else 1"
   ]
  },
  {
   "cell_type": "markdown",
   "metadata": {},
   "source": [
    "# Нейросеть\n",
    "$ y_j^{(i+1)} = f\\left(\\sum_{k=1}^{K} w_{j,k}^{(i)} y_k^{(i)} + b_j^{(i)}\\right) $"
   ]
  },
  {
   "cell_type": "code",
   "execution_count": 8,
   "metadata": {},
   "outputs": [],
   "source": [
    "def go(young, ill, sport):\n",
    "    x = np.array([young, ill, sport])\n",
    "    w11 = [0.3, 0.3, 0]\n",
    "    w12 = [0.4, -0.5, 1]\n",
    "    weight1 = np.array([w11, w12])  # матрица 2x3\n",
    "    weight2 = np.array([-1, 1])  # вектор 1х2\n",
    "\n",
    "    sum_hidden = np.dot(weight1, x)  # вычисляем сумму на входах нейронов скрытого слоя\n",
    "    print(\"Значения сумм на нейронах скрытого слоя: \" + str(sum_hidden))\n",
    "\n",
    "    out_hidden = np.array([act(x) for x in sum_hidden])\n",
    "    print(\"Значения на выходах нейронов скрытого слоя: \" + str(out_hidden))\n",
    "\n",
    "    sum_end = np.dot(weight2, out_hidden)\n",
    "    y = act(sum_end)\n",
    "    print(\"Выходное значение НС: \" + str(y))\n",
    "\n",
    "    return y"
   ]
  },
  {
   "cell_type": "code",
   "execution_count": 9,
   "metadata": {},
   "outputs": [
    {
     "name": "stdout",
     "output_type": "stream",
     "text": [
      "Значения сумм на нейронах скрытого слоя: [0.6 0.9]\n",
      "Значения на выходах нейронов скрытого слоя: [1 1]\n",
      "Выходное значение НС: 0\n",
      "Высокий риск\n"
     ]
    }
   ],
   "source": [
    "young = input('Вы молоды? (y/n): ').lower() == 'y'\n",
    "ill = input('У вас есть хронические заболевания? (y/n): ').lower() == 'y'\n",
    "sport = input('Вы занимаетесь спортом? (y/n): ').lower() == 'y'\n",
    "\n",
    "res = go(int(young), int(ill), int(sport))\n",
    "if res == 1:\n",
    "    print(\"Здоров\")\n",
    "else:\n",
    "    print(\"Высокий риск\")"
   ]
  }
 ],
 "metadata": {
  "kernelspec": {
   "display_name": "Python 3 (ipykernel)",
   "language": "python",
   "name": "python3"
  },
  "language_info": {
   "codemirror_mode": {
    "name": "ipython",
    "version": 3
   },
   "file_extension": ".py",
   "mimetype": "text/x-python",
   "name": "python",
   "nbconvert_exporter": "python",
   "pygments_lexer": "ipython3",
   "version": "3.10.9"
  }
 },
 "nbformat": 4,
 "nbformat_minor": 1
}
