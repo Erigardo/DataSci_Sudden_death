{
 "cells": [
  {
   "cell_type": "code",
   "execution_count": 34,
   "metadata": {
    "collapsed": true
   },
   "outputs": [],
   "source": [
    "import pandas as pd\n",
    "import openpyxl"
   ]
  },
  {
   "cell_type": "code",
   "execution_count": 35,
   "outputs": [],
   "source": [
    "# get DataFrame from xlsx\n",
    "# Получение данных из xlsx файла\n",
    "\n",
    "#\n",
    "table_avanesyan_df = pd.read_excel('Data/table_avanesyan.xlsx', sheet_name=0)\n",
    "df_avanesyan = pd.DataFrame(table_avanesyan_df)\n",
    "\n",
    "#\n",
    "table_blood_vessels_df = pd.read_excel('Data/table_blood_vessels.xlsx', sheet_name=0)\n",
    "df_blood_ves = pd.DataFrame(table_blood_vessels_df)\n",
    "\n",
    "#\n",
    "table_infants_digital_df = pd.read_excel('Data/database_infants_digital.xlsx', sheet_name=0)\n",
    "df_infants_digital = pd.DataFrame(table_infants_digital_df)\n"
   ],
   "metadata": {
    "collapsed": false
   }
  },
  {
   "cell_type": "code",
   "execution_count": 36,
   "outputs": [
    {
     "name": "stdout",
     "output_type": "stream",
     "text": [
      "<class 'pandas.core.frame.DataFrame'>\n",
      "RangeIndex: 119 entries, 0 to 118\n",
      "Data columns (total 15 columns):\n",
      " #   Column                          Non-Null Count  Dtype  \n",
      "---  ------                          --------------  -----  \n",
      " 0   Номер                           119 non-null    int64  \n",
      " 1   Пол (1 - мужской, 0 - женский)  117 non-null    float64\n",
      " 2   Возраст                         117 non-null    float64\n",
      " 3   P                               117 non-null    float64\n",
      " 4   Диагноз                         117 non-null    object \n",
      " 5   Время года (БП)                 117 non-null    object \n",
      " 6   Масса мозга (БП)                117 non-null    object \n",
      " 7   Масса при рождении (БП)         117 non-null    float64\n",
      " 8   Вскармливание (БП)              117 non-null    object \n",
      " 9   Роды (БП)                       117 non-null    object \n",
      " 10  Особенности ГМ (БП)             22 non-null     object \n",
      " 11  Особенности легких (БП)         34 non-null     object \n",
      " 12  Unnamed: 12                     0 non-null      float64\n",
      " 13  Особенности сердца (БП)         28 non-null     object \n",
      " 14  Ганглии сердца (БП)             28 non-null     object \n",
      "dtypes: float64(5), int64(1), object(9)\n",
      "memory usage: 14.1+ KB\n"
     ]
    }
   ],
   "source": [
    "# info\n",
    "# общая информация по данным из таблицы\n",
    "df_avanesyan.info()"
   ],
   "metadata": {
    "collapsed": false
   }
  },
  {
   "cell_type": "code",
   "execution_count": 39,
   "outputs": [
    {
     "ename": "KeyError",
     "evalue": "\"['Unnamed: 12'] not found in axis\"",
     "output_type": "error",
     "traceback": [
      "\u001B[1;31m---------------------------------------------------------------------------\u001B[0m",
      "\u001B[1;31mKeyError\u001B[0m                                  Traceback (most recent call last)",
      "Cell \u001B[1;32mIn[39], line 2\u001B[0m\n\u001B[0;32m      1\u001B[0m \u001B[38;5;66;03m# Удаление неизвестной колонки №12\u001B[39;00m\n\u001B[1;32m----> 2\u001B[0m df_avanesyan \u001B[38;5;241m=\u001B[39m \u001B[43mdf_avanesyan\u001B[49m\u001B[38;5;241;43m.\u001B[39;49m\u001B[43mdrop\u001B[49m\u001B[43m(\u001B[49m\u001B[38;5;124;43m'\u001B[39;49m\u001B[38;5;124;43mUnnamed: 12\u001B[39;49m\u001B[38;5;124;43m'\u001B[39;49m\u001B[43m,\u001B[49m\u001B[43m \u001B[49m\u001B[43maxis\u001B[49m\u001B[38;5;241;43m=\u001B[39;49m\u001B[38;5;241;43m1\u001B[39;49m\u001B[43m)\u001B[49m\n",
      "File \u001B[1;32mD:\\ALL_PROJ\\DataSci_Sudden_death\\lib\\site-packages\\pandas\\util\\_decorators.py:331\u001B[0m, in \u001B[0;36mdeprecate_nonkeyword_arguments.<locals>.decorate.<locals>.wrapper\u001B[1;34m(*args, **kwargs)\u001B[0m\n\u001B[0;32m    325\u001B[0m \u001B[38;5;28;01mif\u001B[39;00m \u001B[38;5;28mlen\u001B[39m(args) \u001B[38;5;241m>\u001B[39m num_allow_args:\n\u001B[0;32m    326\u001B[0m     warnings\u001B[38;5;241m.\u001B[39mwarn(\n\u001B[0;32m    327\u001B[0m         msg\u001B[38;5;241m.\u001B[39mformat(arguments\u001B[38;5;241m=\u001B[39m_format_argument_list(allow_args)),\n\u001B[0;32m    328\u001B[0m         \u001B[38;5;167;01mFutureWarning\u001B[39;00m,\n\u001B[0;32m    329\u001B[0m         stacklevel\u001B[38;5;241m=\u001B[39mfind_stack_level(),\n\u001B[0;32m    330\u001B[0m     )\n\u001B[1;32m--> 331\u001B[0m \u001B[38;5;28;01mreturn\u001B[39;00m func(\u001B[38;5;241m*\u001B[39margs, \u001B[38;5;241m*\u001B[39m\u001B[38;5;241m*\u001B[39mkwargs)\n",
      "File \u001B[1;32mD:\\ALL_PROJ\\DataSci_Sudden_death\\lib\\site-packages\\pandas\\core\\frame.py:5399\u001B[0m, in \u001B[0;36mDataFrame.drop\u001B[1;34m(self, labels, axis, index, columns, level, inplace, errors)\u001B[0m\n\u001B[0;32m   5251\u001B[0m \u001B[38;5;129m@deprecate_nonkeyword_arguments\u001B[39m(version\u001B[38;5;241m=\u001B[39m\u001B[38;5;28;01mNone\u001B[39;00m, allowed_args\u001B[38;5;241m=\u001B[39m[\u001B[38;5;124m\"\u001B[39m\u001B[38;5;124mself\u001B[39m\u001B[38;5;124m\"\u001B[39m, \u001B[38;5;124m\"\u001B[39m\u001B[38;5;124mlabels\u001B[39m\u001B[38;5;124m\"\u001B[39m])\n\u001B[0;32m   5252\u001B[0m \u001B[38;5;28;01mdef\u001B[39;00m \u001B[38;5;21mdrop\u001B[39m(  \u001B[38;5;66;03m# type: ignore[override]\u001B[39;00m\n\u001B[0;32m   5253\u001B[0m     \u001B[38;5;28mself\u001B[39m,\n\u001B[1;32m   (...)\u001B[0m\n\u001B[0;32m   5260\u001B[0m     errors: IgnoreRaise \u001B[38;5;241m=\u001B[39m \u001B[38;5;124m\"\u001B[39m\u001B[38;5;124mraise\u001B[39m\u001B[38;5;124m\"\u001B[39m,\n\u001B[0;32m   5261\u001B[0m ) \u001B[38;5;241m-\u001B[39m\u001B[38;5;241m>\u001B[39m DataFrame \u001B[38;5;241m|\u001B[39m \u001B[38;5;28;01mNone\u001B[39;00m:\n\u001B[0;32m   5262\u001B[0m \u001B[38;5;250m    \u001B[39m\u001B[38;5;124;03m\"\"\"\u001B[39;00m\n\u001B[0;32m   5263\u001B[0m \u001B[38;5;124;03m    Drop specified labels from rows or columns.\u001B[39;00m\n\u001B[0;32m   5264\u001B[0m \n\u001B[1;32m   (...)\u001B[0m\n\u001B[0;32m   5397\u001B[0m \u001B[38;5;124;03m            weight  1.0     0.8\u001B[39;00m\n\u001B[0;32m   5398\u001B[0m \u001B[38;5;124;03m    \"\"\"\u001B[39;00m\n\u001B[1;32m-> 5399\u001B[0m     \u001B[38;5;28;01mreturn\u001B[39;00m \u001B[38;5;28;43msuper\u001B[39;49m\u001B[43m(\u001B[49m\u001B[43m)\u001B[49m\u001B[38;5;241;43m.\u001B[39;49m\u001B[43mdrop\u001B[49m\u001B[43m(\u001B[49m\n\u001B[0;32m   5400\u001B[0m \u001B[43m        \u001B[49m\u001B[43mlabels\u001B[49m\u001B[38;5;241;43m=\u001B[39;49m\u001B[43mlabels\u001B[49m\u001B[43m,\u001B[49m\n\u001B[0;32m   5401\u001B[0m \u001B[43m        \u001B[49m\u001B[43maxis\u001B[49m\u001B[38;5;241;43m=\u001B[39;49m\u001B[43maxis\u001B[49m\u001B[43m,\u001B[49m\n\u001B[0;32m   5402\u001B[0m \u001B[43m        \u001B[49m\u001B[43mindex\u001B[49m\u001B[38;5;241;43m=\u001B[39;49m\u001B[43mindex\u001B[49m\u001B[43m,\u001B[49m\n\u001B[0;32m   5403\u001B[0m \u001B[43m        \u001B[49m\u001B[43mcolumns\u001B[49m\u001B[38;5;241;43m=\u001B[39;49m\u001B[43mcolumns\u001B[49m\u001B[43m,\u001B[49m\n\u001B[0;32m   5404\u001B[0m \u001B[43m        \u001B[49m\u001B[43mlevel\u001B[49m\u001B[38;5;241;43m=\u001B[39;49m\u001B[43mlevel\u001B[49m\u001B[43m,\u001B[49m\n\u001B[0;32m   5405\u001B[0m \u001B[43m        \u001B[49m\u001B[43minplace\u001B[49m\u001B[38;5;241;43m=\u001B[39;49m\u001B[43minplace\u001B[49m\u001B[43m,\u001B[49m\n\u001B[0;32m   5406\u001B[0m \u001B[43m        \u001B[49m\u001B[43merrors\u001B[49m\u001B[38;5;241;43m=\u001B[39;49m\u001B[43merrors\u001B[49m\u001B[43m,\u001B[49m\n\u001B[0;32m   5407\u001B[0m \u001B[43m    \u001B[49m\u001B[43m)\u001B[49m\n",
      "File \u001B[1;32mD:\\ALL_PROJ\\DataSci_Sudden_death\\lib\\site-packages\\pandas\\util\\_decorators.py:331\u001B[0m, in \u001B[0;36mdeprecate_nonkeyword_arguments.<locals>.decorate.<locals>.wrapper\u001B[1;34m(*args, **kwargs)\u001B[0m\n\u001B[0;32m    325\u001B[0m \u001B[38;5;28;01mif\u001B[39;00m \u001B[38;5;28mlen\u001B[39m(args) \u001B[38;5;241m>\u001B[39m num_allow_args:\n\u001B[0;32m    326\u001B[0m     warnings\u001B[38;5;241m.\u001B[39mwarn(\n\u001B[0;32m    327\u001B[0m         msg\u001B[38;5;241m.\u001B[39mformat(arguments\u001B[38;5;241m=\u001B[39m_format_argument_list(allow_args)),\n\u001B[0;32m    328\u001B[0m         \u001B[38;5;167;01mFutureWarning\u001B[39;00m,\n\u001B[0;32m    329\u001B[0m         stacklevel\u001B[38;5;241m=\u001B[39mfind_stack_level(),\n\u001B[0;32m    330\u001B[0m     )\n\u001B[1;32m--> 331\u001B[0m \u001B[38;5;28;01mreturn\u001B[39;00m func(\u001B[38;5;241m*\u001B[39margs, \u001B[38;5;241m*\u001B[39m\u001B[38;5;241m*\u001B[39mkwargs)\n",
      "File \u001B[1;32mD:\\ALL_PROJ\\DataSci_Sudden_death\\lib\\site-packages\\pandas\\core\\generic.py:4505\u001B[0m, in \u001B[0;36mNDFrame.drop\u001B[1;34m(self, labels, axis, index, columns, level, inplace, errors)\u001B[0m\n\u001B[0;32m   4503\u001B[0m \u001B[38;5;28;01mfor\u001B[39;00m axis, labels \u001B[38;5;129;01min\u001B[39;00m axes\u001B[38;5;241m.\u001B[39mitems():\n\u001B[0;32m   4504\u001B[0m     \u001B[38;5;28;01mif\u001B[39;00m labels \u001B[38;5;129;01mis\u001B[39;00m \u001B[38;5;129;01mnot\u001B[39;00m \u001B[38;5;28;01mNone\u001B[39;00m:\n\u001B[1;32m-> 4505\u001B[0m         obj \u001B[38;5;241m=\u001B[39m \u001B[43mobj\u001B[49m\u001B[38;5;241;43m.\u001B[39;49m\u001B[43m_drop_axis\u001B[49m\u001B[43m(\u001B[49m\u001B[43mlabels\u001B[49m\u001B[43m,\u001B[49m\u001B[43m \u001B[49m\u001B[43maxis\u001B[49m\u001B[43m,\u001B[49m\u001B[43m \u001B[49m\u001B[43mlevel\u001B[49m\u001B[38;5;241;43m=\u001B[39;49m\u001B[43mlevel\u001B[49m\u001B[43m,\u001B[49m\u001B[43m \u001B[49m\u001B[43merrors\u001B[49m\u001B[38;5;241;43m=\u001B[39;49m\u001B[43merrors\u001B[49m\u001B[43m)\u001B[49m\n\u001B[0;32m   4507\u001B[0m \u001B[38;5;28;01mif\u001B[39;00m inplace:\n\u001B[0;32m   4508\u001B[0m     \u001B[38;5;28mself\u001B[39m\u001B[38;5;241m.\u001B[39m_update_inplace(obj)\n",
      "File \u001B[1;32mD:\\ALL_PROJ\\DataSci_Sudden_death\\lib\\site-packages\\pandas\\core\\generic.py:4546\u001B[0m, in \u001B[0;36mNDFrame._drop_axis\u001B[1;34m(self, labels, axis, level, errors, only_slice)\u001B[0m\n\u001B[0;32m   4544\u001B[0m         new_axis \u001B[38;5;241m=\u001B[39m axis\u001B[38;5;241m.\u001B[39mdrop(labels, level\u001B[38;5;241m=\u001B[39mlevel, errors\u001B[38;5;241m=\u001B[39merrors)\n\u001B[0;32m   4545\u001B[0m     \u001B[38;5;28;01melse\u001B[39;00m:\n\u001B[1;32m-> 4546\u001B[0m         new_axis \u001B[38;5;241m=\u001B[39m \u001B[43maxis\u001B[49m\u001B[38;5;241;43m.\u001B[39;49m\u001B[43mdrop\u001B[49m\u001B[43m(\u001B[49m\u001B[43mlabels\u001B[49m\u001B[43m,\u001B[49m\u001B[43m \u001B[49m\u001B[43merrors\u001B[49m\u001B[38;5;241;43m=\u001B[39;49m\u001B[43merrors\u001B[49m\u001B[43m)\u001B[49m\n\u001B[0;32m   4547\u001B[0m     indexer \u001B[38;5;241m=\u001B[39m axis\u001B[38;5;241m.\u001B[39mget_indexer(new_axis)\n\u001B[0;32m   4549\u001B[0m \u001B[38;5;66;03m# Case for non-unique axis\u001B[39;00m\n\u001B[0;32m   4550\u001B[0m \u001B[38;5;28;01melse\u001B[39;00m:\n",
      "File \u001B[1;32mD:\\ALL_PROJ\\DataSci_Sudden_death\\lib\\site-packages\\pandas\\core\\indexes\\base.py:6934\u001B[0m, in \u001B[0;36mIndex.drop\u001B[1;34m(self, labels, errors)\u001B[0m\n\u001B[0;32m   6932\u001B[0m \u001B[38;5;28;01mif\u001B[39;00m mask\u001B[38;5;241m.\u001B[39many():\n\u001B[0;32m   6933\u001B[0m     \u001B[38;5;28;01mif\u001B[39;00m errors \u001B[38;5;241m!=\u001B[39m \u001B[38;5;124m\"\u001B[39m\u001B[38;5;124mignore\u001B[39m\u001B[38;5;124m\"\u001B[39m:\n\u001B[1;32m-> 6934\u001B[0m         \u001B[38;5;28;01mraise\u001B[39;00m \u001B[38;5;167;01mKeyError\u001B[39;00m(\u001B[38;5;124mf\u001B[39m\u001B[38;5;124m\"\u001B[39m\u001B[38;5;132;01m{\u001B[39;00m\u001B[38;5;28mlist\u001B[39m(labels[mask])\u001B[38;5;132;01m}\u001B[39;00m\u001B[38;5;124m not found in axis\u001B[39m\u001B[38;5;124m\"\u001B[39m)\n\u001B[0;32m   6935\u001B[0m     indexer \u001B[38;5;241m=\u001B[39m indexer[\u001B[38;5;241m~\u001B[39mmask]\n\u001B[0;32m   6936\u001B[0m \u001B[38;5;28;01mreturn\u001B[39;00m \u001B[38;5;28mself\u001B[39m\u001B[38;5;241m.\u001B[39mdelete(indexer)\n",
      "\u001B[1;31mKeyError\u001B[0m: \"['Unnamed: 12'] not found in axis\""
     ]
    }
   ],
   "source": [
    "# Удаление неизвестной колонки №12\n",
    "df_avanesyan = df_avanesyan.drop('Unnamed: 12', axis=1)"
   ],
   "metadata": {
    "collapsed": false
   }
  },
  {
   "cell_type": "markdown",
   "source": [
    "Исправим в колонке \"Время года (БП)\" Названия месяцев с большой буквы\n",
    "# Исправляем названия месяцев на правильный формат\n",
    "df['Время года (БП)'] = df['Время года (БП)'].str.title()"
   ],
   "metadata": {
    "collapsed": false
   }
  },
  {
   "cell_type": "code",
   "execution_count": 43,
   "outputs": [
    {
     "name": "stdout",
     "output_type": "stream",
     "text": [
      "     Номер  Пол (1 - мужской, 0 - женский)  Возраст     P          Диагноз  \\\n",
      "0        1                             1.0     5.56  0.31             СВДС   \n",
      "1        2                             1.0     5.56  0.31             СВДС   \n",
      "2        3                             1.0     5.56  0.31             СВДС   \n",
      "3        4                             1.0     5.56  0.31             СВДС   \n",
      "4        5                             1.0     5.56  0.31             СВДС   \n",
      "..     ...                             ...      ...   ...              ...   \n",
      "114    116                             0.0     9.70  1.83  внешние причины   \n",
      "115    117                             0.0     9.70  1.83  внешние причины   \n",
      "116    118                             0.0     9.70  1.83  внешние причины   \n",
      "117    119                             NaN      NaN   NaN              NaN   \n",
      "118    120                             NaN      NaN   NaN              NaN   \n",
      "\n",
      "      Время года (БП)  Масса мозга (БП)  Масса при рождении (БП)  \\\n",
      "0              Январь  в пределах нормы                   3056.2   \n",
      "1              Январь  в пределах нормы                   3056.2   \n",
      "2              Январь  в пределах нормы                   3056.2   \n",
      "3             Февраль  в пределах нормы                   3056.2   \n",
      "4             Февраль  в пределах нормы                   3056.2   \n",
      "..                ...               ...                      ...   \n",
      "114  Второе Полугодие  в пределах нормы                   2959.2   \n",
      "115  Второе Полугодие  в пределах нормы                   2959.2   \n",
      "116  Второе Полугодие  в пределах нормы                   2959.2   \n",
      "117               NaN               NaN                      NaN   \n",
      "118               NaN               NaN                      NaN   \n",
      "\n",
      "    Вскармливание (БП)  Роды (БП)  \\\n",
      "0        искусственное  повторные   \n",
      "1        искусственное  повторные   \n",
      "2        искусственное  повторные   \n",
      "3        искусственное  повторные   \n",
      "4        искусственное  повторные   \n",
      "..                 ...        ...   \n",
      "114            грудное     первые   \n",
      "115            грудное     первые   \n",
      "116            грудное     первые   \n",
      "117                NaN        NaN   \n",
      "118                NaN        NaN   \n",
      "\n",
      "                                   Особенности ГМ (БП)  \\\n",
      "0    глиозные пролифераты в виде дорожек в стволовы...   \n",
      "1    глиозные пролифераты в виде дорожек в стволовы...   \n",
      "2    глиозные пролифераты в виде дорожек в стволовы...   \n",
      "3    глиозные пролифераты в виде дорожек в стволовы...   \n",
      "4    глиозные пролифераты в виде дорожек в стволовы...   \n",
      "..                                                 ...   \n",
      "114                                                NaN   \n",
      "115                                                NaN   \n",
      "116                                                NaN   \n",
      "117                                                NaN   \n",
      "118                                                NaN   \n",
      "\n",
      "                               Особенности легких (БП)  \\\n",
      "0    утолщение, фиброз и отек стенок легочных артер...   \n",
      "1    утолщение, фиброз и отек стенок легочных артер...   \n",
      "2    утолщение, фиброз и отек стенок легочных артер...   \n",
      "3    утолщение, фиброз и отек стенок легочных артер...   \n",
      "4    утолщение, фиброз и отек стенок легочных артер...   \n",
      "..                                                 ...   \n",
      "114                                                NaN   \n",
      "115                                                NaN   \n",
      "116                                                NaN   \n",
      "117                                                NaN   \n",
      "118                                                NaN   \n",
      "\n",
      "                               Особенности сердца (БП)   Ганглии сердца (БП)  \n",
      "0    фиброзные изменения в эндокарде предсердий и м...  фиброзные изменения   \n",
      "1    фиброзные изменения в эндокарде предсердий и м...  фиброзные изменения   \n",
      "2    фиброзные изменения в эндокарде предсердий и м...  фиброзные изменения   \n",
      "3    фиброзные изменения в эндокарде предсердий и м...  фиброзные изменения   \n",
      "4    фиброзные изменения в эндокарде предсердий и м...  фиброзные изменения   \n",
      "..                                                 ...                   ...  \n",
      "114                                                NaN                   NaN  \n",
      "115                                                NaN                   NaN  \n",
      "116                                                NaN                   NaN  \n",
      "117                                                NaN                   NaN  \n",
      "118                                                NaN                   NaN  \n",
      "\n",
      "[119 rows x 14 columns]\n"
     ]
    }
   ],
   "source": [
    "# Исправляем названия месяцев на правильный формат\n",
    "# Функция для преобразования строки\n",
    "def capitalize_season(season):\n",
    "    # Список месяцев\n",
    "    months = ['Январь', 'Февраль', 'Март', 'Апрель',\n",
    "              'Май', 'Июнь', 'Июль', 'Август',\n",
    "              'Сентябрь', 'Октябрь', 'Ноябрь', 'Декабрь']\n",
    "    # Словосочетания с заглавной буквы\n",
    "    half_years = ['Первое полугодие', 'Второе полугодие']\n",
    "\n",
    "    # Проверка на словосочетание \"Первое полугодие\" или \"Второе полугодие\"\n",
    "    if isinstance(season, str) and season in half_years:\n",
    "        season = season.title()\n",
    "    # Если строка не является словосочетанием, то изменяем первую букву на верхний регистр, а остальные - на нижний\n",
    "    elif isinstance(season, str):\n",
    "        season = season.title().rstrip('0123456789').rstrip()\n",
    "        if season in months:\n",
    "            season = season.title()\n",
    "    return season\n",
    "\n",
    "# Применение функции capitalize_season к столбцу \"Время года (БП)\"\n",
    "df_avanesyan['Время года (БП)'] = df_avanesyan['Время года (БП)'].apply(capitalize_season)"
   ],
   "metadata": {
    "collapsed": false
   }
  },
  {
   "cell_type": "code",
   "execution_count": 45,
   "outputs": [],
   "source": [
    "# Удаляем пустые строки\n",
    "df_avanesyan = df_avanesyan.dropna(how='all', inplace=True)"
   ],
   "metadata": {
    "collapsed": false
   }
  },
  {
   "cell_type": "code",
   "execution_count": 41,
   "outputs": [
    {
     "data": {
      "text/plain": "     Номер  Пол (1 - мужской, 0 - женский)  Возраст     P          Диагноз  \\\n0        1                             1.0     5.56  0.31             СВДС   \n1        2                             1.0     5.56  0.31             СВДС   \n2        3                             1.0     5.56  0.31             СВДС   \n3        4                             1.0     5.56  0.31             СВДС   \n4        5                             1.0     5.56  0.31             СВДС   \n..     ...                             ...      ...   ...              ...   \n114    116                             0.0     9.70  1.83  внешние причины   \n115    117                             0.0     9.70  1.83  внешние причины   \n116    118                             0.0     9.70  1.83  внешние причины   \n117    119                             NaN      NaN   NaN              NaN   \n118    120                             NaN      NaN   NaN              NaN   \n\n      Время года (БП)  Масса мозга (БП)  Масса при рождении (БП)  \\\n0              Январь  в пределах нормы                   3056.2   \n1              Январь  в пределах нормы                   3056.2   \n2              Январь  в пределах нормы                   3056.2   \n3             Февраль  в пределах нормы                   3056.2   \n4             Февраль  в пределах нормы                   3056.2   \n..                ...               ...                      ...   \n114  Второе Полугодие  в пределах нормы                   2959.2   \n115  Второе Полугодие  в пределах нормы                   2959.2   \n116  Второе Полугодие  в пределах нормы                   2959.2   \n117               NaN               NaN                      NaN   \n118               NaN               NaN                      NaN   \n\n    Вскармливание (БП)  Роды (БП)  \\\n0        искусственное  повторные   \n1        искусственное  повторные   \n2        искусственное  повторные   \n3        искусственное  повторные   \n4        искусственное  повторные   \n..                 ...        ...   \n114            грудное     первые   \n115            грудное     первые   \n116            грудное     первые   \n117                NaN        NaN   \n118                NaN        NaN   \n\n                                   Особенности ГМ (БП)  \\\n0    глиозные пролифераты в виде дорожек в стволовы...   \n1    глиозные пролифераты в виде дорожек в стволовы...   \n2    глиозные пролифераты в виде дорожек в стволовы...   \n3    глиозные пролифераты в виде дорожек в стволовы...   \n4    глиозные пролифераты в виде дорожек в стволовы...   \n..                                                 ...   \n114                                                NaN   \n115                                                NaN   \n116                                                NaN   \n117                                                NaN   \n118                                                NaN   \n\n                               Особенности легких (БП)  \\\n0    утолщение, фиброз и отек стенок легочных артер...   \n1    утолщение, фиброз и отек стенок легочных артер...   \n2    утолщение, фиброз и отек стенок легочных артер...   \n3    утолщение, фиброз и отек стенок легочных артер...   \n4    утолщение, фиброз и отек стенок легочных артер...   \n..                                                 ...   \n114                                                NaN   \n115                                                NaN   \n116                                                NaN   \n117                                                NaN   \n118                                                NaN   \n\n                               Особенности сердца (БП)   Ганглии сердца (БП)  \n0    фиброзные изменения в эндокарде предсердий и м...  фиброзные изменения   \n1    фиброзные изменения в эндокарде предсердий и м...  фиброзные изменения   \n2    фиброзные изменения в эндокарде предсердий и м...  фиброзные изменения   \n3    фиброзные изменения в эндокарде предсердий и м...  фиброзные изменения   \n4    фиброзные изменения в эндокарде предсердий и м...  фиброзные изменения   \n..                                                 ...                   ...  \n114                                                NaN                   NaN  \n115                                                NaN                   NaN  \n116                                                NaN                   NaN  \n117                                                NaN                   NaN  \n118                                                NaN                   NaN  \n\n[119 rows x 14 columns]",
      "text/html": "<div>\n<style scoped>\n    .dataframe tbody tr th:only-of-type {\n        vertical-align: middle;\n    }\n\n    .dataframe tbody tr th {\n        vertical-align: top;\n    }\n\n    .dataframe thead th {\n        text-align: right;\n    }\n</style>\n<table border=\"1\" class=\"dataframe\">\n  <thead>\n    <tr style=\"text-align: right;\">\n      <th></th>\n      <th>Номер</th>\n      <th>Пол (1 - мужской, 0 - женский)</th>\n      <th>Возраст</th>\n      <th>P</th>\n      <th>Диагноз</th>\n      <th>Время года (БП)</th>\n      <th>Масса мозга (БП)</th>\n      <th>Масса при рождении (БП)</th>\n      <th>Вскармливание (БП)</th>\n      <th>Роды (БП)</th>\n      <th>Особенности ГМ (БП)</th>\n      <th>Особенности легких (БП)</th>\n      <th>Особенности сердца (БП)</th>\n      <th>Ганглии сердца (БП)</th>\n    </tr>\n  </thead>\n  <tbody>\n    <tr>\n      <th>0</th>\n      <td>1</td>\n      <td>1.0</td>\n      <td>5.56</td>\n      <td>0.31</td>\n      <td>СВДС</td>\n      <td>Январь</td>\n      <td>в пределах нормы</td>\n      <td>3056.2</td>\n      <td>искусственное</td>\n      <td>повторные</td>\n      <td>глиозные пролифераты в виде дорожек в стволовы...</td>\n      <td>утолщение, фиброз и отек стенок легочных артер...</td>\n      <td>фиброзные изменения в эндокарде предсердий и м...</td>\n      <td>фиброзные изменения</td>\n    </tr>\n    <tr>\n      <th>1</th>\n      <td>2</td>\n      <td>1.0</td>\n      <td>5.56</td>\n      <td>0.31</td>\n      <td>СВДС</td>\n      <td>Январь</td>\n      <td>в пределах нормы</td>\n      <td>3056.2</td>\n      <td>искусственное</td>\n      <td>повторные</td>\n      <td>глиозные пролифераты в виде дорожек в стволовы...</td>\n      <td>утолщение, фиброз и отек стенок легочных артер...</td>\n      <td>фиброзные изменения в эндокарде предсердий и м...</td>\n      <td>фиброзные изменения</td>\n    </tr>\n    <tr>\n      <th>2</th>\n      <td>3</td>\n      <td>1.0</td>\n      <td>5.56</td>\n      <td>0.31</td>\n      <td>СВДС</td>\n      <td>Январь</td>\n      <td>в пределах нормы</td>\n      <td>3056.2</td>\n      <td>искусственное</td>\n      <td>повторные</td>\n      <td>глиозные пролифераты в виде дорожек в стволовы...</td>\n      <td>утолщение, фиброз и отек стенок легочных артер...</td>\n      <td>фиброзные изменения в эндокарде предсердий и м...</td>\n      <td>фиброзные изменения</td>\n    </tr>\n    <tr>\n      <th>3</th>\n      <td>4</td>\n      <td>1.0</td>\n      <td>5.56</td>\n      <td>0.31</td>\n      <td>СВДС</td>\n      <td>Февраль</td>\n      <td>в пределах нормы</td>\n      <td>3056.2</td>\n      <td>искусственное</td>\n      <td>повторные</td>\n      <td>глиозные пролифераты в виде дорожек в стволовы...</td>\n      <td>утолщение, фиброз и отек стенок легочных артер...</td>\n      <td>фиброзные изменения в эндокарде предсердий и м...</td>\n      <td>фиброзные изменения</td>\n    </tr>\n    <tr>\n      <th>4</th>\n      <td>5</td>\n      <td>1.0</td>\n      <td>5.56</td>\n      <td>0.31</td>\n      <td>СВДС</td>\n      <td>Февраль</td>\n      <td>в пределах нормы</td>\n      <td>3056.2</td>\n      <td>искусственное</td>\n      <td>повторные</td>\n      <td>глиозные пролифераты в виде дорожек в стволовы...</td>\n      <td>утолщение, фиброз и отек стенок легочных артер...</td>\n      <td>фиброзные изменения в эндокарде предсердий и м...</td>\n      <td>фиброзные изменения</td>\n    </tr>\n    <tr>\n      <th>...</th>\n      <td>...</td>\n      <td>...</td>\n      <td>...</td>\n      <td>...</td>\n      <td>...</td>\n      <td>...</td>\n      <td>...</td>\n      <td>...</td>\n      <td>...</td>\n      <td>...</td>\n      <td>...</td>\n      <td>...</td>\n      <td>...</td>\n      <td>...</td>\n    </tr>\n    <tr>\n      <th>114</th>\n      <td>116</td>\n      <td>0.0</td>\n      <td>9.70</td>\n      <td>1.83</td>\n      <td>внешние причины</td>\n      <td>Второе Полугодие</td>\n      <td>в пределах нормы</td>\n      <td>2959.2</td>\n      <td>грудное</td>\n      <td>первые</td>\n      <td>NaN</td>\n      <td>NaN</td>\n      <td>NaN</td>\n      <td>NaN</td>\n    </tr>\n    <tr>\n      <th>115</th>\n      <td>117</td>\n      <td>0.0</td>\n      <td>9.70</td>\n      <td>1.83</td>\n      <td>внешние причины</td>\n      <td>Второе Полугодие</td>\n      <td>в пределах нормы</td>\n      <td>2959.2</td>\n      <td>грудное</td>\n      <td>первые</td>\n      <td>NaN</td>\n      <td>NaN</td>\n      <td>NaN</td>\n      <td>NaN</td>\n    </tr>\n    <tr>\n      <th>116</th>\n      <td>118</td>\n      <td>0.0</td>\n      <td>9.70</td>\n      <td>1.83</td>\n      <td>внешние причины</td>\n      <td>Второе Полугодие</td>\n      <td>в пределах нормы</td>\n      <td>2959.2</td>\n      <td>грудное</td>\n      <td>первые</td>\n      <td>NaN</td>\n      <td>NaN</td>\n      <td>NaN</td>\n      <td>NaN</td>\n    </tr>\n    <tr>\n      <th>117</th>\n      <td>119</td>\n      <td>NaN</td>\n      <td>NaN</td>\n      <td>NaN</td>\n      <td>NaN</td>\n      <td>NaN</td>\n      <td>NaN</td>\n      <td>NaN</td>\n      <td>NaN</td>\n      <td>NaN</td>\n      <td>NaN</td>\n      <td>NaN</td>\n      <td>NaN</td>\n      <td>NaN</td>\n    </tr>\n    <tr>\n      <th>118</th>\n      <td>120</td>\n      <td>NaN</td>\n      <td>NaN</td>\n      <td>NaN</td>\n      <td>NaN</td>\n      <td>NaN</td>\n      <td>NaN</td>\n      <td>NaN</td>\n      <td>NaN</td>\n      <td>NaN</td>\n      <td>NaN</td>\n      <td>NaN</td>\n      <td>NaN</td>\n      <td>NaN</td>\n    </tr>\n  </tbody>\n</table>\n<p>119 rows × 14 columns</p>\n</div>"
     },
     "execution_count": 41,
     "metadata": {},
     "output_type": "execute_result"
    }
   ],
   "source": [
    "df_avanesyan"
   ],
   "metadata": {
    "collapsed": false
   }
  },
  {
   "cell_type": "code",
   "execution_count": 14,
   "outputs": [],
   "source": [
    "# заменяем все значения None на предшествующие значения в каждом столбце\n",
    "df_avanesyan = df_avanesyan.fillna(method='ffill')"
   ],
   "metadata": {
    "collapsed": false
   }
  },
  {
   "cell_type": "code",
   "execution_count": 15,
   "outputs": [
    {
     "data": {
      "text/plain": "     Номер  Пол (1 - мужской, 0 - женский)  Возраст     P  Диагноз  \\\n0     True                            True     True  True     True   \n1     True                            True     True  True     True   \n2     True                            True     True  True     True   \n3     True                            True     True  True     True   \n4     True                            True     True  True     True   \n..     ...                             ...      ...   ...      ...   \n114   True                            True     True  True     True   \n115   True                            True     True  True     True   \n116   True                            True     True  True     True   \n117   True                            True     True  True     True   \n118   True                            True     True  True     True   \n\n     Время года (БП)  Масса мозга (БП)  Масса при рождении (БП)  \\\n0               True              True                     True   \n1               True              True                     True   \n2               True              True                     True   \n3               True              True                     True   \n4               True              True                     True   \n..               ...               ...                      ...   \n114             True              True                     True   \n115             True              True                     True   \n116             True              True                     True   \n117             True              True                     True   \n118             True              True                     True   \n\n     Вскармливание (БП)  Роды (БП)  Особенности ГМ (БП)  \\\n0                  True       True                 True   \n1                  True       True                 True   \n2                  True       True                 True   \n3                  True       True                 True   \n4                  True       True                 True   \n..                  ...        ...                  ...   \n114                True       True                 True   \n115                True       True                 True   \n116                True       True                 True   \n117                True       True                 True   \n118                True       True                 True   \n\n     Особенности легких (БП)  Unnamed: 12  Особенности сердца (БП)  \\\n0                       True        False                     True   \n1                       True        False                     True   \n2                       True        False                     True   \n3                       True        False                     True   \n4                       True        False                     True   \n..                       ...          ...                      ...   \n114                     True        False                     True   \n115                     True        False                     True   \n116                     True        False                     True   \n117                     True        False                     True   \n118                     True        False                     True   \n\n     Ганглии сердца (БП)  \n0                   True  \n1                   True  \n2                   True  \n3                   True  \n4                   True  \n..                   ...  \n114                 True  \n115                 True  \n116                 True  \n117                 True  \n118                 True  \n\n[119 rows x 15 columns]",
      "text/html": "<div>\n<style scoped>\n    .dataframe tbody tr th:only-of-type {\n        vertical-align: middle;\n    }\n\n    .dataframe tbody tr th {\n        vertical-align: top;\n    }\n\n    .dataframe thead th {\n        text-align: right;\n    }\n</style>\n<table border=\"1\" class=\"dataframe\">\n  <thead>\n    <tr style=\"text-align: right;\">\n      <th></th>\n      <th>Номер</th>\n      <th>Пол (1 - мужской, 0 - женский)</th>\n      <th>Возраст</th>\n      <th>P</th>\n      <th>Диагноз</th>\n      <th>Время года (БП)</th>\n      <th>Масса мозга (БП)</th>\n      <th>Масса при рождении (БП)</th>\n      <th>Вскармливание (БП)</th>\n      <th>Роды (БП)</th>\n      <th>Особенности ГМ (БП)</th>\n      <th>Особенности легких (БП)</th>\n      <th>Unnamed: 12</th>\n      <th>Особенности сердца (БП)</th>\n      <th>Ганглии сердца (БП)</th>\n    </tr>\n  </thead>\n  <tbody>\n    <tr>\n      <th>0</th>\n      <td>True</td>\n      <td>True</td>\n      <td>True</td>\n      <td>True</td>\n      <td>True</td>\n      <td>True</td>\n      <td>True</td>\n      <td>True</td>\n      <td>True</td>\n      <td>True</td>\n      <td>True</td>\n      <td>True</td>\n      <td>False</td>\n      <td>True</td>\n      <td>True</td>\n    </tr>\n    <tr>\n      <th>1</th>\n      <td>True</td>\n      <td>True</td>\n      <td>True</td>\n      <td>True</td>\n      <td>True</td>\n      <td>True</td>\n      <td>True</td>\n      <td>True</td>\n      <td>True</td>\n      <td>True</td>\n      <td>True</td>\n      <td>True</td>\n      <td>False</td>\n      <td>True</td>\n      <td>True</td>\n    </tr>\n    <tr>\n      <th>2</th>\n      <td>True</td>\n      <td>True</td>\n      <td>True</td>\n      <td>True</td>\n      <td>True</td>\n      <td>True</td>\n      <td>True</td>\n      <td>True</td>\n      <td>True</td>\n      <td>True</td>\n      <td>True</td>\n      <td>True</td>\n      <td>False</td>\n      <td>True</td>\n      <td>True</td>\n    </tr>\n    <tr>\n      <th>3</th>\n      <td>True</td>\n      <td>True</td>\n      <td>True</td>\n      <td>True</td>\n      <td>True</td>\n      <td>True</td>\n      <td>True</td>\n      <td>True</td>\n      <td>True</td>\n      <td>True</td>\n      <td>True</td>\n      <td>True</td>\n      <td>False</td>\n      <td>True</td>\n      <td>True</td>\n    </tr>\n    <tr>\n      <th>4</th>\n      <td>True</td>\n      <td>True</td>\n      <td>True</td>\n      <td>True</td>\n      <td>True</td>\n      <td>True</td>\n      <td>True</td>\n      <td>True</td>\n      <td>True</td>\n      <td>True</td>\n      <td>True</td>\n      <td>True</td>\n      <td>False</td>\n      <td>True</td>\n      <td>True</td>\n    </tr>\n    <tr>\n      <th>...</th>\n      <td>...</td>\n      <td>...</td>\n      <td>...</td>\n      <td>...</td>\n      <td>...</td>\n      <td>...</td>\n      <td>...</td>\n      <td>...</td>\n      <td>...</td>\n      <td>...</td>\n      <td>...</td>\n      <td>...</td>\n      <td>...</td>\n      <td>...</td>\n      <td>...</td>\n    </tr>\n    <tr>\n      <th>114</th>\n      <td>True</td>\n      <td>True</td>\n      <td>True</td>\n      <td>True</td>\n      <td>True</td>\n      <td>True</td>\n      <td>True</td>\n      <td>True</td>\n      <td>True</td>\n      <td>True</td>\n      <td>True</td>\n      <td>True</td>\n      <td>False</td>\n      <td>True</td>\n      <td>True</td>\n    </tr>\n    <tr>\n      <th>115</th>\n      <td>True</td>\n      <td>True</td>\n      <td>True</td>\n      <td>True</td>\n      <td>True</td>\n      <td>True</td>\n      <td>True</td>\n      <td>True</td>\n      <td>True</td>\n      <td>True</td>\n      <td>True</td>\n      <td>True</td>\n      <td>False</td>\n      <td>True</td>\n      <td>True</td>\n    </tr>\n    <tr>\n      <th>116</th>\n      <td>True</td>\n      <td>True</td>\n      <td>True</td>\n      <td>True</td>\n      <td>True</td>\n      <td>True</td>\n      <td>True</td>\n      <td>True</td>\n      <td>True</td>\n      <td>True</td>\n      <td>True</td>\n      <td>True</td>\n      <td>False</td>\n      <td>True</td>\n      <td>True</td>\n    </tr>\n    <tr>\n      <th>117</th>\n      <td>True</td>\n      <td>True</td>\n      <td>True</td>\n      <td>True</td>\n      <td>True</td>\n      <td>True</td>\n      <td>True</td>\n      <td>True</td>\n      <td>True</td>\n      <td>True</td>\n      <td>True</td>\n      <td>True</td>\n      <td>False</td>\n      <td>True</td>\n      <td>True</td>\n    </tr>\n    <tr>\n      <th>118</th>\n      <td>True</td>\n      <td>True</td>\n      <td>True</td>\n      <td>True</td>\n      <td>True</td>\n      <td>True</td>\n      <td>True</td>\n      <td>True</td>\n      <td>True</td>\n      <td>True</td>\n      <td>True</td>\n      <td>True</td>\n      <td>False</td>\n      <td>True</td>\n      <td>True</td>\n    </tr>\n  </tbody>\n</table>\n<p>119 rows × 15 columns</p>\n</div>"
     },
     "execution_count": 15,
     "metadata": {},
     "output_type": "execute_result"
    }
   ],
   "source": [
    "# Убеждаемся в отсутствии пропущенных значений\n",
    "df_avanesyan.notnull()"
   ],
   "metadata": {
    "collapsed": false
   }
  },
  {
   "cell_type": "code",
   "execution_count": null,
   "outputs": [],
   "source": [
    "# описание min-max значений\n",
    "df_avanesyan.describe()"
   ],
   "metadata": {
    "collapsed": false
   }
  },
  {
   "cell_type": "code",
   "execution_count": null,
   "outputs": [],
   "source": [
    "df_corr_matrix = df_avanesyan.corr(method='spearman') #Это метод корреляции Пирсона"
   ],
   "metadata": {
    "collapsed": false
   }
  },
  {
   "cell_type": "code",
   "execution_count": null,
   "outputs": [],
   "source": [
    "# Это таблица коэффициентов корреляции Пирсона между различными переменными. Она показывает, насколько сильно или слабо связаны между собой различные переменные. Коэффициент корреляции Пирсона может принимать значения от -1 до 1. Если коэффициент равен 1, это означает положительную корреляцию, то есть две переменные движутся в одном направлении. Если коэффициент равен -1, это означает отрицательную корреляцию, то есть две переменные движутся в противоположных направлениях. Если коэффициент равен 0, это означает отсутствие корреляции между переменными.\n",
    "\n",
    "# В данной таблице можно увидеть, что возраст, номер и P сильно коррелируют между собой с коэффициентом 0.923331. Пол и Масса при рождении (БП) также коррелируют между собой, но связь в этом случае не такая сильная. Можно использовать эту таблицу, чтобы определить, какие переменные следует использовать для предсказания целевой переменной.\n",
    "\n",
    "df_corr_matrix"
   ],
   "metadata": {
    "collapsed": false
   }
  },
  {
   "cell_type": "code",
   "execution_count": null,
   "outputs": [],
   "source": [
    "# info\n",
    "# общая информация по данным из таблицы\n",
    "df_infants_digital.info()"
   ],
   "metadata": {
    "collapsed": false
   }
  },
  {
   "cell_type": "code",
   "execution_count": null,
   "outputs": [],
   "source": [
    "df_infants_digital"
   ],
   "metadata": {
    "collapsed": false
   }
  },
  {
   "cell_type": "code",
   "execution_count": null,
   "outputs": [],
   "source": [
    "# merge dataframes\n",
    "# слияние данных из таблиц df_avanesyan, df_infants_digital\n",
    "df_work_table = pd.merge(df_avanesyan, df_infants_digital, how='inner')\n",
    "# drop unnamed columns\n",
    "\n",
    "# list of factors\n",
    "# листинг факторов\n",
    "list(df_work_table)"
   ],
   "metadata": {
    "collapsed": false
   }
  },
  {
   "cell_type": "code",
   "execution_count": null,
   "outputs": [],
   "source": [
    "# drop fully unfilled rows\n",
    "# Удаление незаполненных строк\n",
    "df_work_table = df_work_table.dropna(thresh=3)"
   ],
   "metadata": {
    "collapsed": false
   }
  },
  {
   "cell_type": "code",
   "execution_count": null,
   "outputs": [],
   "source": [
    "is_null = df_work_table.isnull()\n",
    "is_null"
   ],
   "metadata": {
    "collapsed": false
   }
  },
  {
   "cell_type": "code",
   "execution_count": null,
   "outputs": [],
   "source": [],
   "metadata": {
    "collapsed": false
   }
  }
 ],
 "metadata": {
  "kernelspec": {
   "display_name": "Python 3",
   "language": "python",
   "name": "python3"
  },
  "language_info": {
   "codemirror_mode": {
    "name": "ipython",
    "version": 2
   },
   "file_extension": ".py",
   "mimetype": "text/x-python",
   "name": "python",
   "nbconvert_exporter": "python",
   "pygments_lexer": "ipython2",
   "version": "2.7.6"
  }
 },
 "nbformat": 4,
 "nbformat_minor": 0
}
