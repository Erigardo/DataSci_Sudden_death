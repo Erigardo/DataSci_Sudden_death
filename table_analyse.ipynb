{
 "cells": [
  {
   "cell_type": "code",
   "execution_count": 2,
   "metadata": {
    "collapsed": true
   },
   "outputs": [],
   "source": [
    "import pandas as pd"
   ]
  },
  {
   "cell_type": "code",
   "execution_count": 3,
   "outputs": [],
   "source": [
    "# get DataFrame from xlsx\n",
    "# Получение данных из xlsx файла\n",
    "\n",
    "#\n",
    "table_avanesyan_df = pd.read_excel('table_avanesyan.xlsx', sheet_name=0)\n",
    "df_avanesyan = pd.DataFrame(table_avanesyan_df)\n",
    "\n",
    "#\n",
    "table_blood_vessels_df = pd.read_excel('table_blood_vessels.xlsx', sheet_name=0)\n",
    "df_blood_ves = pd.DataFrame(table_blood_vessels_df)\n",
    "\n",
    "#\n",
    "table_infants_digital_df = pd.read_excel('database_infants_digital.xlsx', sheet_name=0)\n",
    "df_infants_digital = pd.DataFrame(table_infants_digital_df)\n"
   ],
   "metadata": {
    "collapsed": false
   }
  },
  {
   "cell_type": "code",
   "execution_count": 4,
   "outputs": [
    {
     "name": "stdout",
     "output_type": "stream",
     "text": [
      "<class 'pandas.core.frame.DataFrame'>\n",
      "RangeIndex: 119 entries, 0 to 118\n",
      "Data columns (total 15 columns):\n",
      " #   Column                          Non-Null Count  Dtype  \n",
      "---  ------                          --------------  -----  \n",
      " 0   Номер                           119 non-null    int64  \n",
      " 1   Пол (1 - мужской, 0 - женский)  117 non-null    float64\n",
      " 2   Возраст                         117 non-null    float64\n",
      " 3   P                               117 non-null    float64\n",
      " 4   Диагноз                         117 non-null    object \n",
      " 5   Время года (БП)                 117 non-null    object \n",
      " 6   Масса мозга (БП)                117 non-null    object \n",
      " 7   Масса при рождении (БП)         117 non-null    float64\n",
      " 8   Вскармливание (БП)              117 non-null    object \n",
      " 9   Роды (БП)                       117 non-null    object \n",
      " 10  Особенности ГМ (БП)             22 non-null     object \n",
      " 11  Особенности легких (БП)         34 non-null     object \n",
      " 12  Unnamed: 12                     0 non-null      float64\n",
      " 13  Особенности сердца (БП)         28 non-null     object \n",
      " 14  Ганглии сердца (БП)             28 non-null     object \n",
      "dtypes: float64(5), int64(1), object(9)\n",
      "memory usage: 14.1+ KB\n"
     ]
    }
   ],
   "source": [
    "# info\n",
    "# общая информация по данным из таблицы\n",
    "df_avanesyan.info()"
   ],
   "metadata": {
    "collapsed": false
   }
  },
  {
   "cell_type": "code",
   "execution_count": 5,
   "outputs": [
    {
     "name": "stderr",
     "output_type": "stream",
     "text": [
      "C:\\Users\\wingardo\\AppData\\Local\\Temp\\ipykernel_19648\\2184339713.py:2: FutureWarning: The default value of numeric_only in DataFrame.mean is deprecated. In a future version, it will default to False. In addition, specifying 'numeric_only=None' is deprecated. Select only valid columns or specify the value of numeric_only to silence this warning.\n",
      "  df_avanesyan = df_avanesyan.fillna(df_avanesyan.mean(skipna=True))\n"
     ]
    }
   ],
   "source": [
    "# Заменим пропущенные значения средним значением по столбцу\n",
    "df_avanesyan = df_avanesyan.fillna(df_avanesyan.mean(skipna=True))"
   ],
   "metadata": {
    "collapsed": false
   }
  },
  {
   "cell_type": "code",
   "execution_count": 6,
   "outputs": [],
   "source": [
    "# заменяем все значения None на предшествующие значения в каждом столбце\n",
    "df_avanesyan = df_avanesyan.fillna(method='ffill')"
   ],
   "metadata": {
    "collapsed": false
   }
  },
  {
   "cell_type": "code",
   "execution_count": 7,
   "outputs": [
    {
     "data": {
      "text/plain": "     Номер  Пол (1 - мужской, 0 - женский)  Возраст     P  Диагноз  \\\n0     True                            True     True  True     True   \n1     True                            True     True  True     True   \n2     True                            True     True  True     True   \n3     True                            True     True  True     True   \n4     True                            True     True  True     True   \n..     ...                             ...      ...   ...      ...   \n114   True                            True     True  True     True   \n115   True                            True     True  True     True   \n116   True                            True     True  True     True   \n117   True                            True     True  True     True   \n118   True                            True     True  True     True   \n\n     Время года (БП)  Масса мозга (БП)  Масса при рождении (БП)  \\\n0               True              True                     True   \n1               True              True                     True   \n2               True              True                     True   \n3               True              True                     True   \n4               True              True                     True   \n..               ...               ...                      ...   \n114             True              True                     True   \n115             True              True                     True   \n116             True              True                     True   \n117             True              True                     True   \n118             True              True                     True   \n\n     Вскармливание (БП)  Роды (БП)  Особенности ГМ (БП)  \\\n0                  True       True                 True   \n1                  True       True                 True   \n2                  True       True                 True   \n3                  True       True                 True   \n4                  True       True                 True   \n..                  ...        ...                  ...   \n114                True       True                 True   \n115                True       True                 True   \n116                True       True                 True   \n117                True       True                 True   \n118                True       True                 True   \n\n     Особенности легких (БП)  Unnamed: 12  Особенности сердца (БП)  \\\n0                       True        False                     True   \n1                       True        False                     True   \n2                       True        False                     True   \n3                       True        False                     True   \n4                       True        False                     True   \n..                       ...          ...                      ...   \n114                     True        False                     True   \n115                     True        False                     True   \n116                     True        False                     True   \n117                     True        False                     True   \n118                     True        False                     True   \n\n     Ганглии сердца (БП)  \n0                   True  \n1                   True  \n2                   True  \n3                   True  \n4                   True  \n..                   ...  \n114                 True  \n115                 True  \n116                 True  \n117                 True  \n118                 True  \n\n[119 rows x 15 columns]",
      "text/html": "<div>\n<style scoped>\n    .dataframe tbody tr th:only-of-type {\n        vertical-align: middle;\n    }\n\n    .dataframe tbody tr th {\n        vertical-align: top;\n    }\n\n    .dataframe thead th {\n        text-align: right;\n    }\n</style>\n<table border=\"1\" class=\"dataframe\">\n  <thead>\n    <tr style=\"text-align: right;\">\n      <th></th>\n      <th>Номер</th>\n      <th>Пол (1 - мужской, 0 - женский)</th>\n      <th>Возраст</th>\n      <th>P</th>\n      <th>Диагноз</th>\n      <th>Время года (БП)</th>\n      <th>Масса мозга (БП)</th>\n      <th>Масса при рождении (БП)</th>\n      <th>Вскармливание (БП)</th>\n      <th>Роды (БП)</th>\n      <th>Особенности ГМ (БП)</th>\n      <th>Особенности легких (БП)</th>\n      <th>Unnamed: 12</th>\n      <th>Особенности сердца (БП)</th>\n      <th>Ганглии сердца (БП)</th>\n    </tr>\n  </thead>\n  <tbody>\n    <tr>\n      <th>0</th>\n      <td>True</td>\n      <td>True</td>\n      <td>True</td>\n      <td>True</td>\n      <td>True</td>\n      <td>True</td>\n      <td>True</td>\n      <td>True</td>\n      <td>True</td>\n      <td>True</td>\n      <td>True</td>\n      <td>True</td>\n      <td>False</td>\n      <td>True</td>\n      <td>True</td>\n    </tr>\n    <tr>\n      <th>1</th>\n      <td>True</td>\n      <td>True</td>\n      <td>True</td>\n      <td>True</td>\n      <td>True</td>\n      <td>True</td>\n      <td>True</td>\n      <td>True</td>\n      <td>True</td>\n      <td>True</td>\n      <td>True</td>\n      <td>True</td>\n      <td>False</td>\n      <td>True</td>\n      <td>True</td>\n    </tr>\n    <tr>\n      <th>2</th>\n      <td>True</td>\n      <td>True</td>\n      <td>True</td>\n      <td>True</td>\n      <td>True</td>\n      <td>True</td>\n      <td>True</td>\n      <td>True</td>\n      <td>True</td>\n      <td>True</td>\n      <td>True</td>\n      <td>True</td>\n      <td>False</td>\n      <td>True</td>\n      <td>True</td>\n    </tr>\n    <tr>\n      <th>3</th>\n      <td>True</td>\n      <td>True</td>\n      <td>True</td>\n      <td>True</td>\n      <td>True</td>\n      <td>True</td>\n      <td>True</td>\n      <td>True</td>\n      <td>True</td>\n      <td>True</td>\n      <td>True</td>\n      <td>True</td>\n      <td>False</td>\n      <td>True</td>\n      <td>True</td>\n    </tr>\n    <tr>\n      <th>4</th>\n      <td>True</td>\n      <td>True</td>\n      <td>True</td>\n      <td>True</td>\n      <td>True</td>\n      <td>True</td>\n      <td>True</td>\n      <td>True</td>\n      <td>True</td>\n      <td>True</td>\n      <td>True</td>\n      <td>True</td>\n      <td>False</td>\n      <td>True</td>\n      <td>True</td>\n    </tr>\n    <tr>\n      <th>...</th>\n      <td>...</td>\n      <td>...</td>\n      <td>...</td>\n      <td>...</td>\n      <td>...</td>\n      <td>...</td>\n      <td>...</td>\n      <td>...</td>\n      <td>...</td>\n      <td>...</td>\n      <td>...</td>\n      <td>...</td>\n      <td>...</td>\n      <td>...</td>\n      <td>...</td>\n    </tr>\n    <tr>\n      <th>114</th>\n      <td>True</td>\n      <td>True</td>\n      <td>True</td>\n      <td>True</td>\n      <td>True</td>\n      <td>True</td>\n      <td>True</td>\n      <td>True</td>\n      <td>True</td>\n      <td>True</td>\n      <td>True</td>\n      <td>True</td>\n      <td>False</td>\n      <td>True</td>\n      <td>True</td>\n    </tr>\n    <tr>\n      <th>115</th>\n      <td>True</td>\n      <td>True</td>\n      <td>True</td>\n      <td>True</td>\n      <td>True</td>\n      <td>True</td>\n      <td>True</td>\n      <td>True</td>\n      <td>True</td>\n      <td>True</td>\n      <td>True</td>\n      <td>True</td>\n      <td>False</td>\n      <td>True</td>\n      <td>True</td>\n    </tr>\n    <tr>\n      <th>116</th>\n      <td>True</td>\n      <td>True</td>\n      <td>True</td>\n      <td>True</td>\n      <td>True</td>\n      <td>True</td>\n      <td>True</td>\n      <td>True</td>\n      <td>True</td>\n      <td>True</td>\n      <td>True</td>\n      <td>True</td>\n      <td>False</td>\n      <td>True</td>\n      <td>True</td>\n    </tr>\n    <tr>\n      <th>117</th>\n      <td>True</td>\n      <td>True</td>\n      <td>True</td>\n      <td>True</td>\n      <td>True</td>\n      <td>True</td>\n      <td>True</td>\n      <td>True</td>\n      <td>True</td>\n      <td>True</td>\n      <td>True</td>\n      <td>True</td>\n      <td>False</td>\n      <td>True</td>\n      <td>True</td>\n    </tr>\n    <tr>\n      <th>118</th>\n      <td>True</td>\n      <td>True</td>\n      <td>True</td>\n      <td>True</td>\n      <td>True</td>\n      <td>True</td>\n      <td>True</td>\n      <td>True</td>\n      <td>True</td>\n      <td>True</td>\n      <td>True</td>\n      <td>True</td>\n      <td>False</td>\n      <td>True</td>\n      <td>True</td>\n    </tr>\n  </tbody>\n</table>\n<p>119 rows × 15 columns</p>\n</div>"
     },
     "execution_count": 7,
     "metadata": {},
     "output_type": "execute_result"
    }
   ],
   "source": [
    "# Убеждаемся в отсутствии пропущенных значений\n",
    "df_avanesyan.notnull()"
   ],
   "metadata": {
    "collapsed": false
   }
  },
  {
   "cell_type": "code",
   "execution_count": 8,
   "outputs": [
    {
     "data": {
      "text/plain": "            Номер  Пол (1 - мужской, 0 - женский)     Возраст           P  \\\ncount  119.000000                      119.000000  119.000000  119.000000   \nmean    60.075630                        0.598291    7.577265    1.048803   \nstd     34.618786                        0.488162    1.725557    0.634477   \nmin      1.000000                        0.000000    5.560000    0.310000   \n25%     30.500000                        0.000000    6.690000    0.720000   \n50%     60.000000                        1.000000    6.690000    0.720000   \n75%     89.500000                        1.000000    9.700000    1.830000   \nmax    120.000000                        1.000000    9.700000    1.830000   \n\n       Масса при рождении (БП)  Unnamed: 12  \ncount               119.000000          0.0  \nmean               2968.843590          NaN  \nstd                 108.589609          NaN  \nmin                2729.100000          NaN  \n25%                2959.200000          NaN  \n50%                2969.500000          NaN  \n75%                3056.200000          NaN  \nmax                3096.700000          NaN  ",
      "text/html": "<div>\n<style scoped>\n    .dataframe tbody tr th:only-of-type {\n        vertical-align: middle;\n    }\n\n    .dataframe tbody tr th {\n        vertical-align: top;\n    }\n\n    .dataframe thead th {\n        text-align: right;\n    }\n</style>\n<table border=\"1\" class=\"dataframe\">\n  <thead>\n    <tr style=\"text-align: right;\">\n      <th></th>\n      <th>Номер</th>\n      <th>Пол (1 - мужской, 0 - женский)</th>\n      <th>Возраст</th>\n      <th>P</th>\n      <th>Масса при рождении (БП)</th>\n      <th>Unnamed: 12</th>\n    </tr>\n  </thead>\n  <tbody>\n    <tr>\n      <th>count</th>\n      <td>119.000000</td>\n      <td>119.000000</td>\n      <td>119.000000</td>\n      <td>119.000000</td>\n      <td>119.000000</td>\n      <td>0.0</td>\n    </tr>\n    <tr>\n      <th>mean</th>\n      <td>60.075630</td>\n      <td>0.598291</td>\n      <td>7.577265</td>\n      <td>1.048803</td>\n      <td>2968.843590</td>\n      <td>NaN</td>\n    </tr>\n    <tr>\n      <th>std</th>\n      <td>34.618786</td>\n      <td>0.488162</td>\n      <td>1.725557</td>\n      <td>0.634477</td>\n      <td>108.589609</td>\n      <td>NaN</td>\n    </tr>\n    <tr>\n      <th>min</th>\n      <td>1.000000</td>\n      <td>0.000000</td>\n      <td>5.560000</td>\n      <td>0.310000</td>\n      <td>2729.100000</td>\n      <td>NaN</td>\n    </tr>\n    <tr>\n      <th>25%</th>\n      <td>30.500000</td>\n      <td>0.000000</td>\n      <td>6.690000</td>\n      <td>0.720000</td>\n      <td>2959.200000</td>\n      <td>NaN</td>\n    </tr>\n    <tr>\n      <th>50%</th>\n      <td>60.000000</td>\n      <td>1.000000</td>\n      <td>6.690000</td>\n      <td>0.720000</td>\n      <td>2969.500000</td>\n      <td>NaN</td>\n    </tr>\n    <tr>\n      <th>75%</th>\n      <td>89.500000</td>\n      <td>1.000000</td>\n      <td>9.700000</td>\n      <td>1.830000</td>\n      <td>3056.200000</td>\n      <td>NaN</td>\n    </tr>\n    <tr>\n      <th>max</th>\n      <td>120.000000</td>\n      <td>1.000000</td>\n      <td>9.700000</td>\n      <td>1.830000</td>\n      <td>3096.700000</td>\n      <td>NaN</td>\n    </tr>\n  </tbody>\n</table>\n</div>"
     },
     "execution_count": 8,
     "metadata": {},
     "output_type": "execute_result"
    }
   ],
   "source": [
    "# описание min-max значений\n",
    "df_avanesyan.describe()"
   ],
   "metadata": {
    "collapsed": false
   }
  },
  {
   "cell_type": "code",
   "execution_count": 9,
   "outputs": [
    {
     "name": "stderr",
     "output_type": "stream",
     "text": [
      "C:\\Users\\wingardo\\AppData\\Local\\Temp\\ipykernel_19648\\1296811375.py:1: FutureWarning: The default value of numeric_only in DataFrame.corr is deprecated. In a future version, it will default to False. Select only valid columns or specify the value of numeric_only to silence this warning.\n",
      "  df_corr_matrix = df_avanesyan.corr(method='spearman')\n"
     ]
    }
   ],
   "source": [
    "df_corr_matrix = df_avanesyan.corr(method='spearman') #Это метод корреляции Пирсона"
   ],
   "metadata": {
    "collapsed": false
   }
  },
  {
   "cell_type": "code",
   "execution_count": 16,
   "outputs": [
    {
     "data": {
      "text/plain": "                                   Номер  Пол (1 - мужской, 0 - женский)  \\\nНомер                           1.000000                       -0.402383   \nПол (1 - мужской, 0 - женский) -0.402383                        1.000000   \nВозраст                         0.923331                       -0.118812   \nP                               0.923331                       -0.118812   \nМасса при рождении (БП)        -0.052935                        0.871645   \nUnnamed: 12                          NaN                             NaN   \n\n                                 Возраст         P  Масса при рождении (БП)  \\\nНомер                           0.923331  0.923331                -0.052935   \nПол (1 - мужской, 0 - женский) -0.118812 -0.118812                 0.871645   \nВозраст                         1.000000  1.000000                 0.231695   \nP                               1.000000  1.000000                 0.231695   \nМасса при рождении (БП)         0.231695  0.231695                 1.000000   \nUnnamed: 12                          NaN       NaN                      NaN   \n\n                                Unnamed: 12  \nНомер                                   NaN  \nПол (1 - мужской, 0 - женский)          NaN  \nВозраст                                 NaN  \nP                                       NaN  \nМасса при рождении (БП)                 NaN  \nUnnamed: 12                             NaN  ",
      "text/html": "<div>\n<style scoped>\n    .dataframe tbody tr th:only-of-type {\n        vertical-align: middle;\n    }\n\n    .dataframe tbody tr th {\n        vertical-align: top;\n    }\n\n    .dataframe thead th {\n        text-align: right;\n    }\n</style>\n<table border=\"1\" class=\"dataframe\">\n  <thead>\n    <tr style=\"text-align: right;\">\n      <th></th>\n      <th>Номер</th>\n      <th>Пол (1 - мужской, 0 - женский)</th>\n      <th>Возраст</th>\n      <th>P</th>\n      <th>Масса при рождении (БП)</th>\n      <th>Unnamed: 12</th>\n    </tr>\n  </thead>\n  <tbody>\n    <tr>\n      <th>Номер</th>\n      <td>1.000000</td>\n      <td>-0.402383</td>\n      <td>0.923331</td>\n      <td>0.923331</td>\n      <td>-0.052935</td>\n      <td>NaN</td>\n    </tr>\n    <tr>\n      <th>Пол (1 - мужской, 0 - женский)</th>\n      <td>-0.402383</td>\n      <td>1.000000</td>\n      <td>-0.118812</td>\n      <td>-0.118812</td>\n      <td>0.871645</td>\n      <td>NaN</td>\n    </tr>\n    <tr>\n      <th>Возраст</th>\n      <td>0.923331</td>\n      <td>-0.118812</td>\n      <td>1.000000</td>\n      <td>1.000000</td>\n      <td>0.231695</td>\n      <td>NaN</td>\n    </tr>\n    <tr>\n      <th>P</th>\n      <td>0.923331</td>\n      <td>-0.118812</td>\n      <td>1.000000</td>\n      <td>1.000000</td>\n      <td>0.231695</td>\n      <td>NaN</td>\n    </tr>\n    <tr>\n      <th>Масса при рождении (БП)</th>\n      <td>-0.052935</td>\n      <td>0.871645</td>\n      <td>0.231695</td>\n      <td>0.231695</td>\n      <td>1.000000</td>\n      <td>NaN</td>\n    </tr>\n    <tr>\n      <th>Unnamed: 12</th>\n      <td>NaN</td>\n      <td>NaN</td>\n      <td>NaN</td>\n      <td>NaN</td>\n      <td>NaN</td>\n      <td>NaN</td>\n    </tr>\n  </tbody>\n</table>\n</div>"
     },
     "execution_count": 16,
     "metadata": {},
     "output_type": "execute_result"
    }
   ],
   "source": [
    "# Это таблица коэффициентов корреляции Пирсона между различными переменными. Она показывает, насколько сильно или слабо связаны между собой различные переменные. Коэффициент корреляции Пирсона может принимать значения от -1 до 1. Если коэффициент равен 1, это означает положительную корреляцию, то есть две переменные движутся в одном направлении. Если коэффициент равен -1, это означает отрицательную корреляцию, то есть две переменные движутся в противоположных направлениях. Если коэффициент равен 0, это означает отсутствие корреляции между переменными.\n",
    "\n",
    "# В данной таблице можно увидеть, что возраст, номер и P сильно коррелируют между собой с коэффициентом 0.923331. Пол и Масса при рождении (БП) также коррелируют между собой, но связь в этом случае не такая сильная. Можно использовать эту таблицу, чтобы определить, какие переменные следует использовать для предсказания целевой переменной.\n",
    "\n",
    "df_corr_matrix"
   ],
   "metadata": {
    "collapsed": false
   }
  },
  {
   "cell_type": "code",
   "execution_count": 11,
   "outputs": [
    {
     "name": "stdout",
     "output_type": "stream",
     "text": [
      "<class 'pandas.core.frame.DataFrame'>\n",
      "RangeIndex: 119 entries, 0 to 118\n",
      "Data columns (total 15 columns):\n",
      " #   Column                                                                                                                                                                                                                                                                                                    Non-Null Count  Dtype  \n",
      "---  ------                                                                                                                                                                                                                                                                                                    --------------  -----  \n",
      " 0   Номер                                                                                                                                                                                                                                                                                                     119 non-null    int64  \n",
      " 1   Пол (1 - мужской, 0 - женский)                                                                                                                                                                                                                                                                            117 non-null    float64\n",
      " 2   Возраст                                                                                                                                                                                                                                                                                                   117 non-null    float64\n",
      " 3   P                                                                                                                                                                                                                                                                                                         117 non-null    float64\n",
      " 4   Масса при рождении                                                                                                                                                                                                                                                                                        117 non-null    float64\n",
      " 5   Диагноз (СВДС - 1, ОРВИ - 2, внешние причины - 3)                                                                                                                                                                                                                                                         117 non-null    float64\n",
      " 6   Время года (БП) (1-12 - месяца, 13 - первое полугодие, 14 - второе полугодие)                                                                                                                                                                                                                             117 non-null    float64\n",
      " 7   Масса мозга (БП) (норма - 0)                                                                                                                                                                                                                                                                              117 non-null    float64\n",
      " 8   Вскармливание (БП) (искусственное - 1, грудное - 0)                                                                                                                                                                                                                                                       117 non-null    float64\n",
      " 9   Роды (БП) (0 - первые, 1 - повторные)                                                                                                                                                                                                                                                                     117 non-null    float64\n",
      " 10  Особенности ГМ (БП) (1 -глиозные пролифераты в виде дорожек в стволовых структурах  и мелкоочаговые скопления глиальных элементов под эпендимой боковых желудочков мозга, 0 - нет)                                                                                                                        117 non-null    float64\n",
      " 11  Особенности легких (БП) (2 - десквамация эпителия слизистой, отек и полнокровие стенки трахеи, рыхлая лимфо-лейкоцитарная инфильтрация подслизистого слоя, как проявления серозно-десквамативного трахеобронхита, 1 - утолщение, фиброз и отек стенок легочных артерий, периваскулярный фиброз, 0 - нет)  117 non-null    float64\n",
      " 12  Unnamed: 12                                                                                                                                                                                                                                                                                               0 non-null      float64\n",
      " 13  Особенности сердца (БП) (1 - фиброзные изменения в эндокарде предсердий и межпредсердной перегородки, 0 - нет)                                                                                                                                                                                            117 non-null    float64\n",
      " 14  Ганглии сердца (БП) (1 - фиброзные изменения, 0 - нет)                                                                                                                                                                                                                                                    117 non-null    float64\n",
      "dtypes: float64(14), int64(1)\n",
      "memory usage: 14.1 KB\n"
     ]
    }
   ],
   "source": [
    "# info\n",
    "# общая информация по данным из таблицы\n",
    "df_infants_digital.info()"
   ],
   "metadata": {
    "collapsed": false
   }
  },
  {
   "cell_type": "code",
   "execution_count": 12,
   "outputs": [
    {
     "data": {
      "text/plain": "     Номер  Пол (1 - мужской, 0 - женский)  Возраст     P  Масса при рождении  \\\n0        1                             1.0     5.56  0.31              3056.2   \n1        2                             1.0     5.56  0.31              3056.2   \n2        3                             1.0     5.56  0.31              3056.2   \n3        4                             1.0     5.56  0.31              3056.2   \n4        5                             1.0     5.56  0.31              3056.2   \n..     ...                             ...      ...   ...                 ...   \n114    116                             0.0     9.70  1.83              2959.2   \n115    117                             0.0     9.70  1.83              2959.2   \n116    118                             0.0     9.70  1.83              2959.2   \n117    119                             NaN      NaN   NaN                 NaN   \n118    120                             NaN      NaN   NaN                 NaN   \n\n     Диагноз (СВДС - 1, ОРВИ - 2, внешние причины - 3)  \\\n0                                                  1.0   \n1                                                  1.0   \n2                                                  1.0   \n3                                                  1.0   \n4                                                  1.0   \n..                                                 ...   \n114                                                3.0   \n115                                                3.0   \n116                                                3.0   \n117                                                NaN   \n118                                                NaN   \n\n     Время года (БП) (1-12 - месяца, 13 - первое полугодие, 14 - второе полугодие)  \\\n0                                                  1.0                               \n1                                                  1.0                               \n2                                                  1.0                               \n3                                                  2.0                               \n4                                                  2.0                               \n..                                                 ...                               \n114                                               14.0                               \n115                                               14.0                               \n116                                               14.0                               \n117                                                NaN                               \n118                                                NaN                               \n\n     Масса мозга (БП) (норма - 0)  \\\n0                             0.0   \n1                             0.0   \n2                             0.0   \n3                             0.0   \n4                             0.0   \n..                            ...   \n114                           0.0   \n115                           0.0   \n116                           0.0   \n117                           NaN   \n118                           NaN   \n\n     Вскармливание (БП) (искусственное - 1, грудное - 0)  \\\n0                                                  1.0     \n1                                                  1.0     \n2                                                  1.0     \n3                                                  1.0     \n4                                                  1.0     \n..                                                 ...     \n114                                                0.0     \n115                                                0.0     \n116                                                0.0     \n117                                                NaN     \n118                                                NaN     \n\n     Роды (БП) (0 - первые, 1 - повторные)  \\\n0                                      1.0   \n1                                      1.0   \n2                                      1.0   \n3                                      1.0   \n4                                      1.0   \n..                                     ...   \n114                                    0.0   \n115                                    0.0   \n116                                    0.0   \n117                                    NaN   \n118                                    NaN   \n\n     Особенности ГМ (БП) (1 -глиозные пролифераты в виде дорожек в стволовых структурах  и мелкоочаговые скопления глиальных элементов под эпендимой боковых желудочков мозга, 0 - нет)  \\\n0                                                  1.0                                                                                                                                    \n1                                                  1.0                                                                                                                                    \n2                                                  1.0                                                                                                                                    \n3                                                  1.0                                                                                                                                    \n4                                                  1.0                                                                                                                                    \n..                                                 ...                                                                                                                                    \n114                                                0.0                                                                                                                                    \n115                                                0.0                                                                                                                                    \n116                                                0.0                                                                                                                                    \n117                                                NaN                                                                                                                                    \n118                                                NaN                                                                                                                                    \n\n     Особенности легких (БП) (2 - десквамация эпителия слизистой, отек и полнокровие стенки трахеи, рыхлая лимфо-лейкоцитарная инфильтрация подслизистого слоя, как проявления серозно-десквамативного трахеобронхита, 1 - утолщение, фиброз и отек стенок легочных артерий, периваскулярный фиброз, 0 - нет)  \\\n0                                                  1.0                                                                                                                                                                                                                                                          \n1                                                  1.0                                                                                                                                                                                                                                                          \n2                                                  1.0                                                                                                                                                                                                                                                          \n3                                                  1.0                                                                                                                                                                                                                                                          \n4                                                  1.0                                                                                                                                                                                                                                                          \n..                                                 ...                                                                                                                                                                                                                                                          \n114                                                0.0                                                                                                                                                                                                                                                          \n115                                                0.0                                                                                                                                                                                                                                                          \n116                                                0.0                                                                                                                                                                                                                                                          \n117                                                NaN                                                                                                                                                                                                                                                          \n118                                                NaN                                                                                                                                                                                                                                                          \n\n     Unnamed: 12  \\\n0            NaN   \n1            NaN   \n2            NaN   \n3            NaN   \n4            NaN   \n..           ...   \n114          NaN   \n115          NaN   \n116          NaN   \n117          NaN   \n118          NaN   \n\n     Особенности сердца (БП) (1 - фиброзные изменения в эндокарде предсердий и межпредсердной перегородки, 0 - нет)  \\\n0                                                  1.0                                                                \n1                                                  1.0                                                                \n2                                                  1.0                                                                \n3                                                  1.0                                                                \n4                                                  1.0                                                                \n..                                                 ...                                                                \n114                                                0.0                                                                \n115                                                0.0                                                                \n116                                                0.0                                                                \n117                                                NaN                                                                \n118                                                NaN                                                                \n\n     Ганглии сердца (БП) (1 - фиброзные изменения, 0 - нет)  \n0                                                  1.0       \n1                                                  1.0       \n2                                                  1.0       \n3                                                  1.0       \n4                                                  1.0       \n..                                                 ...       \n114                                                0.0       \n115                                                0.0       \n116                                                0.0       \n117                                                NaN       \n118                                                NaN       \n\n[119 rows x 15 columns]",
      "text/html": "<div>\n<style scoped>\n    .dataframe tbody tr th:only-of-type {\n        vertical-align: middle;\n    }\n\n    .dataframe tbody tr th {\n        vertical-align: top;\n    }\n\n    .dataframe thead th {\n        text-align: right;\n    }\n</style>\n<table border=\"1\" class=\"dataframe\">\n  <thead>\n    <tr style=\"text-align: right;\">\n      <th></th>\n      <th>Номер</th>\n      <th>Пол (1 - мужской, 0 - женский)</th>\n      <th>Возраст</th>\n      <th>P</th>\n      <th>Масса при рождении</th>\n      <th>Диагноз (СВДС - 1, ОРВИ - 2, внешние причины - 3)</th>\n      <th>Время года (БП) (1-12 - месяца, 13 - первое полугодие, 14 - второе полугодие)</th>\n      <th>Масса мозга (БП) (норма - 0)</th>\n      <th>Вскармливание (БП) (искусственное - 1, грудное - 0)</th>\n      <th>Роды (БП) (0 - первые, 1 - повторные)</th>\n      <th>Особенности ГМ (БП) (1 -глиозные пролифераты в виде дорожек в стволовых структурах  и мелкоочаговые скопления глиальных элементов под эпендимой боковых желудочков мозга, 0 - нет)</th>\n      <th>Особенности легких (БП) (2 - десквамация эпителия слизистой, отек и полнокровие стенки трахеи, рыхлая лимфо-лейкоцитарная инфильтрация подслизистого слоя, как проявления серозно-десквамативного трахеобронхита, 1 - утолщение, фиброз и отек стенок легочных артерий, периваскулярный фиброз, 0 - нет)</th>\n      <th>Unnamed: 12</th>\n      <th>Особенности сердца (БП) (1 - фиброзные изменения в эндокарде предсердий и межпредсердной перегородки, 0 - нет)</th>\n      <th>Ганглии сердца (БП) (1 - фиброзные изменения, 0 - нет)</th>\n    </tr>\n  </thead>\n  <tbody>\n    <tr>\n      <th>0</th>\n      <td>1</td>\n      <td>1.0</td>\n      <td>5.56</td>\n      <td>0.31</td>\n      <td>3056.2</td>\n      <td>1.0</td>\n      <td>1.0</td>\n      <td>0.0</td>\n      <td>1.0</td>\n      <td>1.0</td>\n      <td>1.0</td>\n      <td>1.0</td>\n      <td>NaN</td>\n      <td>1.0</td>\n      <td>1.0</td>\n    </tr>\n    <tr>\n      <th>1</th>\n      <td>2</td>\n      <td>1.0</td>\n      <td>5.56</td>\n      <td>0.31</td>\n      <td>3056.2</td>\n      <td>1.0</td>\n      <td>1.0</td>\n      <td>0.0</td>\n      <td>1.0</td>\n      <td>1.0</td>\n      <td>1.0</td>\n      <td>1.0</td>\n      <td>NaN</td>\n      <td>1.0</td>\n      <td>1.0</td>\n    </tr>\n    <tr>\n      <th>2</th>\n      <td>3</td>\n      <td>1.0</td>\n      <td>5.56</td>\n      <td>0.31</td>\n      <td>3056.2</td>\n      <td>1.0</td>\n      <td>1.0</td>\n      <td>0.0</td>\n      <td>1.0</td>\n      <td>1.0</td>\n      <td>1.0</td>\n      <td>1.0</td>\n      <td>NaN</td>\n      <td>1.0</td>\n      <td>1.0</td>\n    </tr>\n    <tr>\n      <th>3</th>\n      <td>4</td>\n      <td>1.0</td>\n      <td>5.56</td>\n      <td>0.31</td>\n      <td>3056.2</td>\n      <td>1.0</td>\n      <td>2.0</td>\n      <td>0.0</td>\n      <td>1.0</td>\n      <td>1.0</td>\n      <td>1.0</td>\n      <td>1.0</td>\n      <td>NaN</td>\n      <td>1.0</td>\n      <td>1.0</td>\n    </tr>\n    <tr>\n      <th>4</th>\n      <td>5</td>\n      <td>1.0</td>\n      <td>5.56</td>\n      <td>0.31</td>\n      <td>3056.2</td>\n      <td>1.0</td>\n      <td>2.0</td>\n      <td>0.0</td>\n      <td>1.0</td>\n      <td>1.0</td>\n      <td>1.0</td>\n      <td>1.0</td>\n      <td>NaN</td>\n      <td>1.0</td>\n      <td>1.0</td>\n    </tr>\n    <tr>\n      <th>...</th>\n      <td>...</td>\n      <td>...</td>\n      <td>...</td>\n      <td>...</td>\n      <td>...</td>\n      <td>...</td>\n      <td>...</td>\n      <td>...</td>\n      <td>...</td>\n      <td>...</td>\n      <td>...</td>\n      <td>...</td>\n      <td>...</td>\n      <td>...</td>\n      <td>...</td>\n    </tr>\n    <tr>\n      <th>114</th>\n      <td>116</td>\n      <td>0.0</td>\n      <td>9.70</td>\n      <td>1.83</td>\n      <td>2959.2</td>\n      <td>3.0</td>\n      <td>14.0</td>\n      <td>0.0</td>\n      <td>0.0</td>\n      <td>0.0</td>\n      <td>0.0</td>\n      <td>0.0</td>\n      <td>NaN</td>\n      <td>0.0</td>\n      <td>0.0</td>\n    </tr>\n    <tr>\n      <th>115</th>\n      <td>117</td>\n      <td>0.0</td>\n      <td>9.70</td>\n      <td>1.83</td>\n      <td>2959.2</td>\n      <td>3.0</td>\n      <td>14.0</td>\n      <td>0.0</td>\n      <td>0.0</td>\n      <td>0.0</td>\n      <td>0.0</td>\n      <td>0.0</td>\n      <td>NaN</td>\n      <td>0.0</td>\n      <td>0.0</td>\n    </tr>\n    <tr>\n      <th>116</th>\n      <td>118</td>\n      <td>0.0</td>\n      <td>9.70</td>\n      <td>1.83</td>\n      <td>2959.2</td>\n      <td>3.0</td>\n      <td>14.0</td>\n      <td>0.0</td>\n      <td>0.0</td>\n      <td>0.0</td>\n      <td>0.0</td>\n      <td>0.0</td>\n      <td>NaN</td>\n      <td>0.0</td>\n      <td>0.0</td>\n    </tr>\n    <tr>\n      <th>117</th>\n      <td>119</td>\n      <td>NaN</td>\n      <td>NaN</td>\n      <td>NaN</td>\n      <td>NaN</td>\n      <td>NaN</td>\n      <td>NaN</td>\n      <td>NaN</td>\n      <td>NaN</td>\n      <td>NaN</td>\n      <td>NaN</td>\n      <td>NaN</td>\n      <td>NaN</td>\n      <td>NaN</td>\n      <td>NaN</td>\n    </tr>\n    <tr>\n      <th>118</th>\n      <td>120</td>\n      <td>NaN</td>\n      <td>NaN</td>\n      <td>NaN</td>\n      <td>NaN</td>\n      <td>NaN</td>\n      <td>NaN</td>\n      <td>NaN</td>\n      <td>NaN</td>\n      <td>NaN</td>\n      <td>NaN</td>\n      <td>NaN</td>\n      <td>NaN</td>\n      <td>NaN</td>\n      <td>NaN</td>\n    </tr>\n  </tbody>\n</table>\n<p>119 rows × 15 columns</p>\n</div>"
     },
     "execution_count": 12,
     "metadata": {},
     "output_type": "execute_result"
    }
   ],
   "source": [
    "df_infants_digital"
   ],
   "metadata": {
    "collapsed": false
   }
  },
  {
   "cell_type": "code",
   "execution_count": 13,
   "outputs": [
    {
     "data": {
      "text/plain": "['Номер',\n 'Пол (1 - мужской, 0 - женский)',\n 'Возраст',\n 'P',\n 'Диагноз',\n 'Время года (БП)',\n 'Масса мозга (БП)',\n 'Масса при рождении (БП)',\n 'Вскармливание (БП)',\n 'Роды (БП)',\n 'Особенности ГМ (БП)',\n 'Особенности легких (БП)',\n 'Особенности сердца (БП)',\n 'Ганглии сердца (БП)',\n 'Масса при рождении',\n 'Диагноз (СВДС - 1, ОРВИ - 2, внешние причины - 3)',\n 'Время года (БП) (1-12 - месяца, 13 - первое полугодие, 14 - второе полугодие)',\n 'Масса мозга (БП) (норма - 0)',\n 'Вскармливание (БП) (искусственное - 1, грудное - 0)',\n 'Роды (БП) (0 - первые, 1 - повторные)',\n 'Особенности ГМ (БП) (1 -глиозные пролифераты в виде дорожек в стволовых структурах  и мелкоочаговые скопления глиальных элементов под эпендимой боковых желудочков мозга, 0 - нет)',\n 'Особенности легких (БП) (2 - десквамация эпителия слизистой, отек и полнокровие стенки трахеи, рыхлая лимфо-лейкоцитарная инфильтрация подслизистого слоя, как проявления серозно-десквамативного трахеобронхита, 1 - утолщение, фиброз и отек стенок легочных артерий, периваскулярный фиброз, 0 - нет)',\n 'Особенности сердца (БП) (1 - фиброзные изменения в эндокарде предсердий и межпредсердной перегородки, 0 - нет)',\n 'Ганглии сердца (БП) (1 - фиброзные изменения, 0 - нет)']"
     },
     "execution_count": 13,
     "metadata": {},
     "output_type": "execute_result"
    }
   ],
   "source": [
    "# merge dataframes\n",
    "# слияние данных из таблиц df_avanesyan, df_infants_digital\n",
    "df_work_table = pd.merge(df_avanesyan, df_infants_digital, how='inner')\n",
    "# drop unnamed columns\n",
    "# Удаление неизвестной колонки №12\n",
    "df_work_table.drop(columns=['Unnamed: 12'], inplace=True)\n",
    "\n",
    "# list of factors\n",
    "# листинг факторов\n",
    "list(df_work_table)"
   ],
   "metadata": {
    "collapsed": false
   }
  },
  {
   "cell_type": "code",
   "execution_count": 14,
   "outputs": [],
   "source": [
    "# drop fully unfilled rows\n",
    "# Удаление незаполненных строк\n",
    "df_work_table = df_work_table.dropna(thresh=3)"
   ],
   "metadata": {
    "collapsed": false
   }
  },
  {
   "cell_type": "code",
   "execution_count": 15,
   "outputs": [
    {
     "data": {
      "text/plain": "     Номер  Пол (1 - мужской, 0 - женский)  Возраст      P  Диагноз  \\\n0    False                           False    False  False    False   \n1    False                           False    False  False    False   \n2    False                           False    False  False    False   \n3    False                           False    False  False    False   \n4    False                           False    False  False    False   \n..     ...                             ...      ...    ...      ...   \n112  False                           False    False  False    False   \n113  False                           False    False  False    False   \n114  False                           False    False  False    False   \n115  False                           False    False  False    False   \n116  False                           False    False  False    False   \n\n     Время года (БП)  Масса мозга (БП)  Масса при рождении (БП)  \\\n0              False             False                    False   \n1              False             False                    False   \n2              False             False                    False   \n3              False             False                    False   \n4              False             False                    False   \n..               ...               ...                      ...   \n112            False             False                    False   \n113            False             False                    False   \n114            False             False                    False   \n115            False             False                    False   \n116            False             False                    False   \n\n     Вскармливание (БП)  Роды (БП)  ...  Масса при рождении  \\\n0                 False      False  ...               False   \n1                 False      False  ...               False   \n2                 False      False  ...               False   \n3                 False      False  ...               False   \n4                 False      False  ...               False   \n..                  ...        ...  ...                 ...   \n112               False      False  ...               False   \n113               False      False  ...               False   \n114               False      False  ...               False   \n115               False      False  ...               False   \n116               False      False  ...               False   \n\n     Диагноз (СВДС - 1, ОРВИ - 2, внешние причины - 3)  \\\n0                                                False   \n1                                                False   \n2                                                False   \n3                                                False   \n4                                                False   \n..                                                 ...   \n112                                              False   \n113                                              False   \n114                                              False   \n115                                              False   \n116                                              False   \n\n     Время года (БП) (1-12 - месяца, 13 - первое полугодие, 14 - второе полугодие)  \\\n0                                                False                               \n1                                                False                               \n2                                                False                               \n3                                                False                               \n4                                                False                               \n..                                                 ...                               \n112                                              False                               \n113                                              False                               \n114                                              False                               \n115                                              False                               \n116                                              False                               \n\n     Масса мозга (БП) (норма - 0)  \\\n0                           False   \n1                           False   \n2                           False   \n3                           False   \n4                           False   \n..                            ...   \n112                         False   \n113                         False   \n114                         False   \n115                         False   \n116                         False   \n\n     Вскармливание (БП) (искусственное - 1, грудное - 0)  \\\n0                                                False     \n1                                                False     \n2                                                False     \n3                                                False     \n4                                                False     \n..                                                 ...     \n112                                              False     \n113                                              False     \n114                                              False     \n115                                              False     \n116                                              False     \n\n     Роды (БП) (0 - первые, 1 - повторные)  \\\n0                                    False   \n1                                    False   \n2                                    False   \n3                                    False   \n4                                    False   \n..                                     ...   \n112                                  False   \n113                                  False   \n114                                  False   \n115                                  False   \n116                                  False   \n\n     Особенности ГМ (БП) (1 -глиозные пролифераты в виде дорожек в стволовых структурах  и мелкоочаговые скопления глиальных элементов под эпендимой боковых желудочков мозга, 0 - нет)  \\\n0                                                False                                                                                                                                    \n1                                                False                                                                                                                                    \n2                                                False                                                                                                                                    \n3                                                False                                                                                                                                    \n4                                                False                                                                                                                                    \n..                                                 ...                                                                                                                                    \n112                                              False                                                                                                                                    \n113                                              False                                                                                                                                    \n114                                              False                                                                                                                                    \n115                                              False                                                                                                                                    \n116                                              False                                                                                                                                    \n\n     Особенности легких (БП) (2 - десквамация эпителия слизистой, отек и полнокровие стенки трахеи, рыхлая лимфо-лейкоцитарная инфильтрация подслизистого слоя, как проявления серозно-десквамативного трахеобронхита, 1 - утолщение, фиброз и отек стенок легочных артерий, периваскулярный фиброз, 0 - нет)  \\\n0                                                False                                                                                                                                                                                                                                                          \n1                                                False                                                                                                                                                                                                                                                          \n2                                                False                                                                                                                                                                                                                                                          \n3                                                False                                                                                                                                                                                                                                                          \n4                                                False                                                                                                                                                                                                                                                          \n..                                                 ...                                                                                                                                                                                                                                                          \n112                                              False                                                                                                                                                                                                                                                          \n113                                              False                                                                                                                                                                                                                                                          \n114                                              False                                                                                                                                                                                                                                                          \n115                                              False                                                                                                                                                                                                                                                          \n116                                              False                                                                                                                                                                                                                                                          \n\n     Особенности сердца (БП) (1 - фиброзные изменения в эндокарде предсердий и межпредсердной перегородки, 0 - нет)  \\\n0                                                False                                                                \n1                                                False                                                                \n2                                                False                                                                \n3                                                False                                                                \n4                                                False                                                                \n..                                                 ...                                                                \n112                                              False                                                                \n113                                              False                                                                \n114                                              False                                                                \n115                                              False                                                                \n116                                              False                                                                \n\n     Ганглии сердца (БП) (1 - фиброзные изменения, 0 - нет)  \n0                                                False       \n1                                                False       \n2                                                False       \n3                                                False       \n4                                                False       \n..                                                 ...       \n112                                              False       \n113                                              False       \n114                                              False       \n115                                              False       \n116                                              False       \n\n[117 rows x 24 columns]",
      "text/html": "<div>\n<style scoped>\n    .dataframe tbody tr th:only-of-type {\n        vertical-align: middle;\n    }\n\n    .dataframe tbody tr th {\n        vertical-align: top;\n    }\n\n    .dataframe thead th {\n        text-align: right;\n    }\n</style>\n<table border=\"1\" class=\"dataframe\">\n  <thead>\n    <tr style=\"text-align: right;\">\n      <th></th>\n      <th>Номер</th>\n      <th>Пол (1 - мужской, 0 - женский)</th>\n      <th>Возраст</th>\n      <th>P</th>\n      <th>Диагноз</th>\n      <th>Время года (БП)</th>\n      <th>Масса мозга (БП)</th>\n      <th>Масса при рождении (БП)</th>\n      <th>Вскармливание (БП)</th>\n      <th>Роды (БП)</th>\n      <th>...</th>\n      <th>Масса при рождении</th>\n      <th>Диагноз (СВДС - 1, ОРВИ - 2, внешние причины - 3)</th>\n      <th>Время года (БП) (1-12 - месяца, 13 - первое полугодие, 14 - второе полугодие)</th>\n      <th>Масса мозга (БП) (норма - 0)</th>\n      <th>Вскармливание (БП) (искусственное - 1, грудное - 0)</th>\n      <th>Роды (БП) (0 - первые, 1 - повторные)</th>\n      <th>Особенности ГМ (БП) (1 -глиозные пролифераты в виде дорожек в стволовых структурах  и мелкоочаговые скопления глиальных элементов под эпендимой боковых желудочков мозга, 0 - нет)</th>\n      <th>Особенности легких (БП) (2 - десквамация эпителия слизистой, отек и полнокровие стенки трахеи, рыхлая лимфо-лейкоцитарная инфильтрация подслизистого слоя, как проявления серозно-десквамативного трахеобронхита, 1 - утолщение, фиброз и отек стенок легочных артерий, периваскулярный фиброз, 0 - нет)</th>\n      <th>Особенности сердца (БП) (1 - фиброзные изменения в эндокарде предсердий и межпредсердной перегородки, 0 - нет)</th>\n      <th>Ганглии сердца (БП) (1 - фиброзные изменения, 0 - нет)</th>\n    </tr>\n  </thead>\n  <tbody>\n    <tr>\n      <th>0</th>\n      <td>False</td>\n      <td>False</td>\n      <td>False</td>\n      <td>False</td>\n      <td>False</td>\n      <td>False</td>\n      <td>False</td>\n      <td>False</td>\n      <td>False</td>\n      <td>False</td>\n      <td>...</td>\n      <td>False</td>\n      <td>False</td>\n      <td>False</td>\n      <td>False</td>\n      <td>False</td>\n      <td>False</td>\n      <td>False</td>\n      <td>False</td>\n      <td>False</td>\n      <td>False</td>\n    </tr>\n    <tr>\n      <th>1</th>\n      <td>False</td>\n      <td>False</td>\n      <td>False</td>\n      <td>False</td>\n      <td>False</td>\n      <td>False</td>\n      <td>False</td>\n      <td>False</td>\n      <td>False</td>\n      <td>False</td>\n      <td>...</td>\n      <td>False</td>\n      <td>False</td>\n      <td>False</td>\n      <td>False</td>\n      <td>False</td>\n      <td>False</td>\n      <td>False</td>\n      <td>False</td>\n      <td>False</td>\n      <td>False</td>\n    </tr>\n    <tr>\n      <th>2</th>\n      <td>False</td>\n      <td>False</td>\n      <td>False</td>\n      <td>False</td>\n      <td>False</td>\n      <td>False</td>\n      <td>False</td>\n      <td>False</td>\n      <td>False</td>\n      <td>False</td>\n      <td>...</td>\n      <td>False</td>\n      <td>False</td>\n      <td>False</td>\n      <td>False</td>\n      <td>False</td>\n      <td>False</td>\n      <td>False</td>\n      <td>False</td>\n      <td>False</td>\n      <td>False</td>\n    </tr>\n    <tr>\n      <th>3</th>\n      <td>False</td>\n      <td>False</td>\n      <td>False</td>\n      <td>False</td>\n      <td>False</td>\n      <td>False</td>\n      <td>False</td>\n      <td>False</td>\n      <td>False</td>\n      <td>False</td>\n      <td>...</td>\n      <td>False</td>\n      <td>False</td>\n      <td>False</td>\n      <td>False</td>\n      <td>False</td>\n      <td>False</td>\n      <td>False</td>\n      <td>False</td>\n      <td>False</td>\n      <td>False</td>\n    </tr>\n    <tr>\n      <th>4</th>\n      <td>False</td>\n      <td>False</td>\n      <td>False</td>\n      <td>False</td>\n      <td>False</td>\n      <td>False</td>\n      <td>False</td>\n      <td>False</td>\n      <td>False</td>\n      <td>False</td>\n      <td>...</td>\n      <td>False</td>\n      <td>False</td>\n      <td>False</td>\n      <td>False</td>\n      <td>False</td>\n      <td>False</td>\n      <td>False</td>\n      <td>False</td>\n      <td>False</td>\n      <td>False</td>\n    </tr>\n    <tr>\n      <th>...</th>\n      <td>...</td>\n      <td>...</td>\n      <td>...</td>\n      <td>...</td>\n      <td>...</td>\n      <td>...</td>\n      <td>...</td>\n      <td>...</td>\n      <td>...</td>\n      <td>...</td>\n      <td>...</td>\n      <td>...</td>\n      <td>...</td>\n      <td>...</td>\n      <td>...</td>\n      <td>...</td>\n      <td>...</td>\n      <td>...</td>\n      <td>...</td>\n      <td>...</td>\n      <td>...</td>\n    </tr>\n    <tr>\n      <th>112</th>\n      <td>False</td>\n      <td>False</td>\n      <td>False</td>\n      <td>False</td>\n      <td>False</td>\n      <td>False</td>\n      <td>False</td>\n      <td>False</td>\n      <td>False</td>\n      <td>False</td>\n      <td>...</td>\n      <td>False</td>\n      <td>False</td>\n      <td>False</td>\n      <td>False</td>\n      <td>False</td>\n      <td>False</td>\n      <td>False</td>\n      <td>False</td>\n      <td>False</td>\n      <td>False</td>\n    </tr>\n    <tr>\n      <th>113</th>\n      <td>False</td>\n      <td>False</td>\n      <td>False</td>\n      <td>False</td>\n      <td>False</td>\n      <td>False</td>\n      <td>False</td>\n      <td>False</td>\n      <td>False</td>\n      <td>False</td>\n      <td>...</td>\n      <td>False</td>\n      <td>False</td>\n      <td>False</td>\n      <td>False</td>\n      <td>False</td>\n      <td>False</td>\n      <td>False</td>\n      <td>False</td>\n      <td>False</td>\n      <td>False</td>\n    </tr>\n    <tr>\n      <th>114</th>\n      <td>False</td>\n      <td>False</td>\n      <td>False</td>\n      <td>False</td>\n      <td>False</td>\n      <td>False</td>\n      <td>False</td>\n      <td>False</td>\n      <td>False</td>\n      <td>False</td>\n      <td>...</td>\n      <td>False</td>\n      <td>False</td>\n      <td>False</td>\n      <td>False</td>\n      <td>False</td>\n      <td>False</td>\n      <td>False</td>\n      <td>False</td>\n      <td>False</td>\n      <td>False</td>\n    </tr>\n    <tr>\n      <th>115</th>\n      <td>False</td>\n      <td>False</td>\n      <td>False</td>\n      <td>False</td>\n      <td>False</td>\n      <td>False</td>\n      <td>False</td>\n      <td>False</td>\n      <td>False</td>\n      <td>False</td>\n      <td>...</td>\n      <td>False</td>\n      <td>False</td>\n      <td>False</td>\n      <td>False</td>\n      <td>False</td>\n      <td>False</td>\n      <td>False</td>\n      <td>False</td>\n      <td>False</td>\n      <td>False</td>\n    </tr>\n    <tr>\n      <th>116</th>\n      <td>False</td>\n      <td>False</td>\n      <td>False</td>\n      <td>False</td>\n      <td>False</td>\n      <td>False</td>\n      <td>False</td>\n      <td>False</td>\n      <td>False</td>\n      <td>False</td>\n      <td>...</td>\n      <td>False</td>\n      <td>False</td>\n      <td>False</td>\n      <td>False</td>\n      <td>False</td>\n      <td>False</td>\n      <td>False</td>\n      <td>False</td>\n      <td>False</td>\n      <td>False</td>\n    </tr>\n  </tbody>\n</table>\n<p>117 rows × 24 columns</p>\n</div>"
     },
     "execution_count": 15,
     "metadata": {},
     "output_type": "execute_result"
    }
   ],
   "source": [
    "is_null = df_work_table.isnull()\n",
    "is_null"
   ],
   "metadata": {
    "collapsed": false
   }
  },
  {
   "cell_type": "code",
   "execution_count": 15,
   "outputs": [],
   "source": [],
   "metadata": {
    "collapsed": false
   }
  }
 ],
 "metadata": {
  "kernelspec": {
   "display_name": "Python 3",
   "language": "python",
   "name": "python3"
  },
  "language_info": {
   "codemirror_mode": {
    "name": "ipython",
    "version": 2
   },
   "file_extension": ".py",
   "mimetype": "text/x-python",
   "name": "python",
   "nbconvert_exporter": "python",
   "pygments_lexer": "ipython2",
   "version": "2.7.6"
  }
 },
 "nbformat": 4,
 "nbformat_minor": 0
}
