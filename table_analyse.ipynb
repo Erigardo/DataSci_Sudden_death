{
 "cells": [
  {
   "cell_type": "code",
   "execution_count": 28,
   "metadata": {
    "collapsed": true
   },
   "outputs": [],
   "source": [
    "import pandas as pd\n",
    "import openpyxl"
   ]
  },
  {
   "cell_type": "code",
   "execution_count": 29,
   "outputs": [],
   "source": [
    "# get DataFrame from xlsx\n",
    "# Получение данных из xlsx файла\n",
    "\n",
    "#\n",
    "table_avanesyan_df = pd.read_excel('Data/table_avanesyan.xlsx', sheet_name=0, engine=\"openpyxl\")\n",
    "df_avanesyan = pd.DataFrame(table_avanesyan_df)\n",
    "\n",
    "#\n",
    "table_blood_vessels_df = pd.read_excel('Data/table_blood_vessels.xlsx', sheet_name=0, engine=\"openpyxl\")\n",
    "df_blood_ves = pd.DataFrame(table_blood_vessels_df)\n",
    "\n",
    "#\n",
    "table_infants_digital_df = pd.read_excel('Data/database_infants_digital.xlsx', sheet_name=0, engine=\"openpyxl\")\n",
    "df_infants_digital = pd.DataFrame(table_infants_digital_df)\n"
   ],
   "metadata": {
    "collapsed": false
   }
  },
  {
   "cell_type": "code",
   "execution_count": 30,
   "outputs": [
    {
     "name": "stdout",
     "output_type": "stream",
     "text": [
      "<class 'pandas.core.frame.DataFrame'>\n",
      "RangeIndex: 119 entries, 0 to 118\n",
      "Data columns (total 15 columns):\n",
      " #   Column                          Non-Null Count  Dtype  \n",
      "---  ------                          --------------  -----  \n",
      " 0   Номер                           119 non-null    int64  \n",
      " 1   Пол (1 - мужской, 0 - женский)  117 non-null    float64\n",
      " 2   Возраст                         117 non-null    float64\n",
      " 3   P                               117 non-null    float64\n",
      " 4   Диагноз                         117 non-null    object \n",
      " 5   Время года (БП)                 117 non-null    object \n",
      " 6   Масса мозга (БП)                117 non-null    object \n",
      " 7   Масса при рождении (БП)         117 non-null    float64\n",
      " 8   Вскармливание (БП)              117 non-null    object \n",
      " 9   Роды (БП)                       117 non-null    object \n",
      " 10  Особенности ГМ (БП)             22 non-null     object \n",
      " 11  Особенности легких (БП)         34 non-null     object \n",
      " 12  Unnamed: 12                     0 non-null      float64\n",
      " 13  Особенности сердца (БП)         28 non-null     object \n",
      " 14  Ганглии сердца (БП)             28 non-null     object \n",
      "dtypes: float64(5), int64(1), object(9)\n",
      "memory usage: 14.1+ KB\n"
     ]
    }
   ],
   "source": [
    "# info\n",
    "# общая информация по данным из таблицы\n",
    "df_avanesyan.info()"
   ],
   "metadata": {
    "collapsed": false
   }
  },
  {
   "cell_type": "code",
   "execution_count": 50,
   "outputs": [
    {
     "name": "stdout",
     "output_type": "stream",
     "text": [
      "<class 'pandas.core.frame.DataFrame'>\n",
      "RangeIndex: 119 entries, 0 to 118\n",
      "Data columns (total 14 columns):\n",
      " #   Column                          Non-Null Count  Dtype  \n",
      "---  ------                          --------------  -----  \n",
      " 0   Номер                           119 non-null    int64  \n",
      " 1   Пол (1 - мужской, 0 - женский)  117 non-null    float64\n",
      " 2   Возраст                         117 non-null    float64\n",
      " 3   P                               117 non-null    float64\n",
      " 4   Диагноз                         117 non-null    object \n",
      " 5   Время года (БП)                 117 non-null    object \n",
      " 6   Масса мозга (БП)                117 non-null    object \n",
      " 7   Масса при рождении (БП)         117 non-null    float64\n",
      " 8   Вскармливание (БП)              117 non-null    object \n",
      " 9   Роды (БП)                       117 non-null    object \n",
      " 10  Особенности ГМ (БП)             22 non-null     object \n",
      " 11  Особенности легких (БП)         34 non-null     object \n",
      " 12  Особенности сердца (БП)         28 non-null     object \n",
      " 13  Ганглии сердца (БП)             28 non-null     object \n",
      "dtypes: float64(4), int64(1), object(9)\n",
      "memory usage: 13.1+ KB\n"
     ]
    }
   ],
   "source": [
    "# Удаление неизвестной колонки №12\n",
    "# Removal of unknown column #12\n",
    "df_avanesyan_1 = df_avanesyan.drop('Unnamed: 12', axis=1)\n",
    "df_avanesyan_1.info()"
   ],
   "metadata": {
    "collapsed": false
   }
  },
  {
   "cell_type": "markdown",
   "source": [],
   "metadata": {
    "collapsed": false
   }
  },
  {
   "cell_type": "code",
   "execution_count": 40,
   "outputs": [],
   "source": [
    "# Исправляем названия месяцев на правильный формат\n",
    "# Функция для преобразования строки\n",
    "def capitalize_season(season):\n",
    "    # Список месяцев\n",
    "    months = ['Январь', 'Февраль', 'Март', 'Апрель',\n",
    "              'Май', 'Июнь', 'Июль', 'Август',\n",
    "              'Сентябрь', 'Октябрь', 'Ноябрь', 'Декабрь']\n",
    "    # Словосочетания с заглавной буквы\n",
    "    half_years = ['Первое полугодие', 'Второе полугодие']\n",
    "\n",
    "    # Проверка на словосочетание \"Первое полугодие\" или \"Второе полугодие\"\n",
    "    if isinstance(season, str) and season in half_years:\n",
    "        season = season.title()\n",
    "    # Если строка не является словосочетанием, то изменяем первую букву на верхний регистр, а остальные - на нижний\n",
    "    elif isinstance(season, str):\n",
    "        season = season.title().rstrip('0123456789').rstrip()\n",
    "        if season in months:\n",
    "            season = season.title()\n",
    "    return season\n",
    "\n",
    "# Применение функции capitalize_season к столбцу \"Время года (БП)\"\n",
    "df_avanesyan_1['Время года (БП)'] = df_avanesyan_1['Время года (БП)'].apply(capitalize_season)"
   ],
   "metadata": {
    "collapsed": false
   }
  },
  {
   "cell_type": "markdown",
   "source": [
    "#### Модуль `sklearn.preprocessing.LabelEncoder` из библиотеки scikit-learn позволяет преобразовывать категориальные (например, строковые) значения в числовые. Это может быть нужно, например, для передачи в алгоритмы машинного обучения, которые принимают на вход только числовые данные, или для уменьшения объема данных."
   ],
   "metadata": {
    "collapsed": false
   }
  },
  {
   "cell_type": "code",
   "execution_count": null,
   "outputs": [],
   "source": [
    "from sklearn.preprocessing import LabelEncoder\n",
    "le = LabelEncoder()\n",
    "# Обучим `LabelEncoder` на столбце датафрейма, содержащем категориальные значения.\n"
   ],
   "metadata": {
    "collapsed": false
   }
  },
  {
   "cell_type": "markdown",
   "source": [
    "### Поле в датафрейме можно представить как числовое значение (1 и 0) или строковое значение ('М' и 'Ж', 'male' и 'female' и т.д.), выбор зависит от предметной области, методов анализа. Если значения будут использоваться для статистических вычислений, лучше использовать числовые значения, так как многие методы работают только с числами. Если выбираете строковые значения, убедитесь, что все значения написаны правильно, чтобы избежать ошибок в анализе. Правильный выбор зависит от задачи и предпочтений аналитика.\""
   ],
   "metadata": {
    "collapsed": false
   }
  },
  {
   "cell_type": "markdown",
   "source": [
    "### Отсутствующие данные в медицинских датасетах достаточно распространены и могут быть вызваны различными причинами, как неполное заполнение форм, ошибки ввода, несоответствия между базами данных и др. Работа с отсутствующими данными называется обработкой пропущенных значений (missing data processing)\n",
    "\n",
    "### Например, одним из популярных методов является алгоритм к-ближайших соседей (KNN), который используется для замены пропущенных значений на основе соседних записей с похожими параметрами."
   ],
   "metadata": {
    "collapsed": false
   }
  },
  {
   "cell_type": "code",
   "execution_count": 46,
   "outputs": [],
   "source": [
    "from sklearn.impute import KNNImputer"
   ],
   "metadata": {
    "collapsed": false
   }
  },
  {
   "cell_type": "code",
   "execution_count": 47,
   "outputs": [
    {
     "ename": "ValueError",
     "evalue": "could not convert string to float: 'СВДС'",
     "output_type": "error",
     "traceback": [
      "\u001B[1;31m---------------------------------------------------------------------------\u001B[0m",
      "\u001B[1;31mValueError\u001B[0m                                Traceback (most recent call last)",
      "Cell \u001B[1;32mIn[47], line 7\u001B[0m\n\u001B[0;32m      4\u001B[0m imputer \u001B[38;5;241m=\u001B[39m KNNImputer(n_neighbors\u001B[38;5;241m=\u001B[39m\u001B[38;5;241m5\u001B[39m)\n\u001B[0;32m      6\u001B[0m \u001B[38;5;66;03m# Замена пропущенных значений в датафрейме\u001B[39;00m\n\u001B[1;32m----> 7\u001B[0m df_avanesyan_2_filled \u001B[38;5;241m=\u001B[39m \u001B[43mimputer\u001B[49m\u001B[38;5;241;43m.\u001B[39;49m\u001B[43mfit_transform\u001B[49m\u001B[43m(\u001B[49m\u001B[43mdf_avanesyan_2\u001B[49m\u001B[43m)\u001B[49m\n\u001B[0;32m      9\u001B[0m \u001B[38;5;66;03m# Преобразование массива данных обратно в датафрейм\u001B[39;00m\n\u001B[0;32m     10\u001B[0m df_avanesyan_2 \u001B[38;5;241m=\u001B[39m pd\u001B[38;5;241m.\u001B[39mDataFrame(df_avanesyan_2_filled, columns\u001B[38;5;241m=\u001B[39mdf_avanesyan_2\u001B[38;5;241m.\u001B[39mcolumns)\n",
      "File \u001B[1;32mD:\\ALL_PROJ\\DataSci_Sudden_death\\lib\\site-packages\\sklearn\\utils\\_set_output.py:140\u001B[0m, in \u001B[0;36m_wrap_method_output.<locals>.wrapped\u001B[1;34m(self, X, *args, **kwargs)\u001B[0m\n\u001B[0;32m    138\u001B[0m \u001B[38;5;129m@wraps\u001B[39m(f)\n\u001B[0;32m    139\u001B[0m \u001B[38;5;28;01mdef\u001B[39;00m \u001B[38;5;21mwrapped\u001B[39m(\u001B[38;5;28mself\u001B[39m, X, \u001B[38;5;241m*\u001B[39margs, \u001B[38;5;241m*\u001B[39m\u001B[38;5;241m*\u001B[39mkwargs):\n\u001B[1;32m--> 140\u001B[0m     data_to_wrap \u001B[38;5;241m=\u001B[39m f(\u001B[38;5;28mself\u001B[39m, X, \u001B[38;5;241m*\u001B[39margs, \u001B[38;5;241m*\u001B[39m\u001B[38;5;241m*\u001B[39mkwargs)\n\u001B[0;32m    141\u001B[0m     \u001B[38;5;28;01mif\u001B[39;00m \u001B[38;5;28misinstance\u001B[39m(data_to_wrap, \u001B[38;5;28mtuple\u001B[39m):\n\u001B[0;32m    142\u001B[0m         \u001B[38;5;66;03m# only wrap the first output for cross decomposition\u001B[39;00m\n\u001B[0;32m    143\u001B[0m         \u001B[38;5;28;01mreturn\u001B[39;00m (\n\u001B[0;32m    144\u001B[0m             _wrap_data_with_container(method, data_to_wrap[\u001B[38;5;241m0\u001B[39m], X, \u001B[38;5;28mself\u001B[39m),\n\u001B[0;32m    145\u001B[0m             \u001B[38;5;241m*\u001B[39mdata_to_wrap[\u001B[38;5;241m1\u001B[39m:],\n\u001B[0;32m    146\u001B[0m         )\n",
      "File \u001B[1;32mD:\\ALL_PROJ\\DataSci_Sudden_death\\lib\\site-packages\\sklearn\\base.py:878\u001B[0m, in \u001B[0;36mTransformerMixin.fit_transform\u001B[1;34m(self, X, y, **fit_params)\u001B[0m\n\u001B[0;32m    874\u001B[0m \u001B[38;5;66;03m# non-optimized default implementation; override when a better\u001B[39;00m\n\u001B[0;32m    875\u001B[0m \u001B[38;5;66;03m# method is possible for a given clustering algorithm\u001B[39;00m\n\u001B[0;32m    876\u001B[0m \u001B[38;5;28;01mif\u001B[39;00m y \u001B[38;5;129;01mis\u001B[39;00m \u001B[38;5;28;01mNone\u001B[39;00m:\n\u001B[0;32m    877\u001B[0m     \u001B[38;5;66;03m# fit method of arity 1 (unsupervised transformation)\u001B[39;00m\n\u001B[1;32m--> 878\u001B[0m     \u001B[38;5;28;01mreturn\u001B[39;00m \u001B[38;5;28mself\u001B[39m\u001B[38;5;241m.\u001B[39mfit(X, \u001B[38;5;241m*\u001B[39m\u001B[38;5;241m*\u001B[39mfit_params)\u001B[38;5;241m.\u001B[39mtransform(X)\n\u001B[0;32m    879\u001B[0m \u001B[38;5;28;01melse\u001B[39;00m:\n\u001B[0;32m    880\u001B[0m     \u001B[38;5;66;03m# fit method of arity 2 (supervised transformation)\u001B[39;00m\n\u001B[0;32m    881\u001B[0m     \u001B[38;5;28;01mreturn\u001B[39;00m \u001B[38;5;28mself\u001B[39m\u001B[38;5;241m.\u001B[39mfit(X, y, \u001B[38;5;241m*\u001B[39m\u001B[38;5;241m*\u001B[39mfit_params)\u001B[38;5;241m.\u001B[39mtransform(X)\n",
      "File \u001B[1;32mD:\\ALL_PROJ\\DataSci_Sudden_death\\lib\\site-packages\\sklearn\\impute\\_knn.py:226\u001B[0m, in \u001B[0;36mKNNImputer.fit\u001B[1;34m(self, X, y)\u001B[0m\n\u001B[0;32m    223\u001B[0m \u001B[38;5;28;01melse\u001B[39;00m:\n\u001B[0;32m    224\u001B[0m     force_all_finite \u001B[38;5;241m=\u001B[39m \u001B[38;5;124m\"\u001B[39m\u001B[38;5;124mallow-nan\u001B[39m\u001B[38;5;124m\"\u001B[39m\n\u001B[1;32m--> 226\u001B[0m X \u001B[38;5;241m=\u001B[39m \u001B[38;5;28;43mself\u001B[39;49m\u001B[38;5;241;43m.\u001B[39;49m\u001B[43m_validate_data\u001B[49m\u001B[43m(\u001B[49m\n\u001B[0;32m    227\u001B[0m \u001B[43m    \u001B[49m\u001B[43mX\u001B[49m\u001B[43m,\u001B[49m\n\u001B[0;32m    228\u001B[0m \u001B[43m    \u001B[49m\u001B[43maccept_sparse\u001B[49m\u001B[38;5;241;43m=\u001B[39;49m\u001B[38;5;28;43;01mFalse\u001B[39;49;00m\u001B[43m,\u001B[49m\n\u001B[0;32m    229\u001B[0m \u001B[43m    \u001B[49m\u001B[43mdtype\u001B[49m\u001B[38;5;241;43m=\u001B[39;49m\u001B[43mFLOAT_DTYPES\u001B[49m\u001B[43m,\u001B[49m\n\u001B[0;32m    230\u001B[0m \u001B[43m    \u001B[49m\u001B[43mforce_all_finite\u001B[49m\u001B[38;5;241;43m=\u001B[39;49m\u001B[43mforce_all_finite\u001B[49m\u001B[43m,\u001B[49m\n\u001B[0;32m    231\u001B[0m \u001B[43m    \u001B[49m\u001B[43mcopy\u001B[49m\u001B[38;5;241;43m=\u001B[39;49m\u001B[38;5;28;43mself\u001B[39;49m\u001B[38;5;241;43m.\u001B[39;49m\u001B[43mcopy\u001B[49m\u001B[43m,\u001B[49m\n\u001B[0;32m    232\u001B[0m \u001B[43m\u001B[49m\u001B[43m)\u001B[49m\n\u001B[0;32m    234\u001B[0m \u001B[38;5;28mself\u001B[39m\u001B[38;5;241m.\u001B[39m_fit_X \u001B[38;5;241m=\u001B[39m X\n\u001B[0;32m    235\u001B[0m \u001B[38;5;28mself\u001B[39m\u001B[38;5;241m.\u001B[39m_mask_fit_X \u001B[38;5;241m=\u001B[39m _get_mask(\u001B[38;5;28mself\u001B[39m\u001B[38;5;241m.\u001B[39m_fit_X, \u001B[38;5;28mself\u001B[39m\u001B[38;5;241m.\u001B[39mmissing_values)\n",
      "File \u001B[1;32mD:\\ALL_PROJ\\DataSci_Sudden_death\\lib\\site-packages\\sklearn\\base.py:565\u001B[0m, in \u001B[0;36mBaseEstimator._validate_data\u001B[1;34m(self, X, y, reset, validate_separately, **check_params)\u001B[0m\n\u001B[0;32m    563\u001B[0m     \u001B[38;5;28;01mraise\u001B[39;00m \u001B[38;5;167;01mValueError\u001B[39;00m(\u001B[38;5;124m\"\u001B[39m\u001B[38;5;124mValidation should be done on X, y or both.\u001B[39m\u001B[38;5;124m\"\u001B[39m)\n\u001B[0;32m    564\u001B[0m \u001B[38;5;28;01melif\u001B[39;00m \u001B[38;5;129;01mnot\u001B[39;00m no_val_X \u001B[38;5;129;01mand\u001B[39;00m no_val_y:\n\u001B[1;32m--> 565\u001B[0m     X \u001B[38;5;241m=\u001B[39m check_array(X, input_name\u001B[38;5;241m=\u001B[39m\u001B[38;5;124m\"\u001B[39m\u001B[38;5;124mX\u001B[39m\u001B[38;5;124m\"\u001B[39m, \u001B[38;5;241m*\u001B[39m\u001B[38;5;241m*\u001B[39mcheck_params)\n\u001B[0;32m    566\u001B[0m     out \u001B[38;5;241m=\u001B[39m X\n\u001B[0;32m    567\u001B[0m \u001B[38;5;28;01melif\u001B[39;00m no_val_X \u001B[38;5;129;01mand\u001B[39;00m \u001B[38;5;129;01mnot\u001B[39;00m no_val_y:\n",
      "File \u001B[1;32mD:\\ALL_PROJ\\DataSci_Sudden_death\\lib\\site-packages\\sklearn\\utils\\validation.py:879\u001B[0m, in \u001B[0;36mcheck_array\u001B[1;34m(array, accept_sparse, accept_large_sparse, dtype, order, copy, force_all_finite, ensure_2d, allow_nd, ensure_min_samples, ensure_min_features, estimator, input_name)\u001B[0m\n\u001B[0;32m    877\u001B[0m         array \u001B[38;5;241m=\u001B[39m xp\u001B[38;5;241m.\u001B[39mastype(array, dtype, copy\u001B[38;5;241m=\u001B[39m\u001B[38;5;28;01mFalse\u001B[39;00m)\n\u001B[0;32m    878\u001B[0m     \u001B[38;5;28;01melse\u001B[39;00m:\n\u001B[1;32m--> 879\u001B[0m         array \u001B[38;5;241m=\u001B[39m \u001B[43m_asarray_with_order\u001B[49m\u001B[43m(\u001B[49m\u001B[43marray\u001B[49m\u001B[43m,\u001B[49m\u001B[43m \u001B[49m\u001B[43morder\u001B[49m\u001B[38;5;241;43m=\u001B[39;49m\u001B[43morder\u001B[49m\u001B[43m,\u001B[49m\u001B[43m \u001B[49m\u001B[43mdtype\u001B[49m\u001B[38;5;241;43m=\u001B[39;49m\u001B[43mdtype\u001B[49m\u001B[43m,\u001B[49m\u001B[43m \u001B[49m\u001B[43mxp\u001B[49m\u001B[38;5;241;43m=\u001B[39;49m\u001B[43mxp\u001B[49m\u001B[43m)\u001B[49m\n\u001B[0;32m    880\u001B[0m \u001B[38;5;28;01mexcept\u001B[39;00m ComplexWarning \u001B[38;5;28;01mas\u001B[39;00m complex_warning:\n\u001B[0;32m    881\u001B[0m     \u001B[38;5;28;01mraise\u001B[39;00m \u001B[38;5;167;01mValueError\u001B[39;00m(\n\u001B[0;32m    882\u001B[0m         \u001B[38;5;124m\"\u001B[39m\u001B[38;5;124mComplex data not supported\u001B[39m\u001B[38;5;130;01m\\n\u001B[39;00m\u001B[38;5;132;01m{}\u001B[39;00m\u001B[38;5;130;01m\\n\u001B[39;00m\u001B[38;5;124m\"\u001B[39m\u001B[38;5;241m.\u001B[39mformat(array)\n\u001B[0;32m    883\u001B[0m     ) \u001B[38;5;28;01mfrom\u001B[39;00m \u001B[38;5;21;01mcomplex_warning\u001B[39;00m\n",
      "File \u001B[1;32mD:\\ALL_PROJ\\DataSci_Sudden_death\\lib\\site-packages\\sklearn\\utils\\_array_api.py:185\u001B[0m, in \u001B[0;36m_asarray_with_order\u001B[1;34m(array, dtype, order, copy, xp)\u001B[0m\n\u001B[0;32m    182\u001B[0m     xp, _ \u001B[38;5;241m=\u001B[39m get_namespace(array)\n\u001B[0;32m    183\u001B[0m \u001B[38;5;28;01mif\u001B[39;00m xp\u001B[38;5;241m.\u001B[39m\u001B[38;5;18m__name__\u001B[39m \u001B[38;5;129;01min\u001B[39;00m {\u001B[38;5;124m\"\u001B[39m\u001B[38;5;124mnumpy\u001B[39m\u001B[38;5;124m\"\u001B[39m, \u001B[38;5;124m\"\u001B[39m\u001B[38;5;124mnumpy.array_api\u001B[39m\u001B[38;5;124m\"\u001B[39m}:\n\u001B[0;32m    184\u001B[0m     \u001B[38;5;66;03m# Use NumPy API to support order\u001B[39;00m\n\u001B[1;32m--> 185\u001B[0m     array \u001B[38;5;241m=\u001B[39m \u001B[43mnumpy\u001B[49m\u001B[38;5;241;43m.\u001B[39;49m\u001B[43masarray\u001B[49m\u001B[43m(\u001B[49m\u001B[43marray\u001B[49m\u001B[43m,\u001B[49m\u001B[43m \u001B[49m\u001B[43morder\u001B[49m\u001B[38;5;241;43m=\u001B[39;49m\u001B[43morder\u001B[49m\u001B[43m,\u001B[49m\u001B[43m \u001B[49m\u001B[43mdtype\u001B[49m\u001B[38;5;241;43m=\u001B[39;49m\u001B[43mdtype\u001B[49m\u001B[43m)\u001B[49m\n\u001B[0;32m    186\u001B[0m     \u001B[38;5;28;01mreturn\u001B[39;00m xp\u001B[38;5;241m.\u001B[39masarray(array, copy\u001B[38;5;241m=\u001B[39mcopy)\n\u001B[0;32m    187\u001B[0m \u001B[38;5;28;01melse\u001B[39;00m:\n",
      "File \u001B[1;32mD:\\ALL_PROJ\\DataSci_Sudden_death\\lib\\site-packages\\pandas\\core\\generic.py:2070\u001B[0m, in \u001B[0;36mNDFrame.__array__\u001B[1;34m(self, dtype)\u001B[0m\n\u001B[0;32m   2069\u001B[0m \u001B[38;5;28;01mdef\u001B[39;00m \u001B[38;5;21m__array__\u001B[39m(\u001B[38;5;28mself\u001B[39m, dtype: npt\u001B[38;5;241m.\u001B[39mDTypeLike \u001B[38;5;241m|\u001B[39m \u001B[38;5;28;01mNone\u001B[39;00m \u001B[38;5;241m=\u001B[39m \u001B[38;5;28;01mNone\u001B[39;00m) \u001B[38;5;241m-\u001B[39m\u001B[38;5;241m>\u001B[39m np\u001B[38;5;241m.\u001B[39mndarray:\n\u001B[1;32m-> 2070\u001B[0m     \u001B[38;5;28;01mreturn\u001B[39;00m \u001B[43mnp\u001B[49m\u001B[38;5;241;43m.\u001B[39;49m\u001B[43masarray\u001B[49m\u001B[43m(\u001B[49m\u001B[38;5;28;43mself\u001B[39;49m\u001B[38;5;241;43m.\u001B[39;49m\u001B[43m_values\u001B[49m\u001B[43m,\u001B[49m\u001B[43m \u001B[49m\u001B[43mdtype\u001B[49m\u001B[38;5;241;43m=\u001B[39;49m\u001B[43mdtype\u001B[49m\u001B[43m)\u001B[49m\n",
      "\u001B[1;31mValueError\u001B[0m: could not convert string to float: 'СВДС'"
     ]
    }
   ],
   "source": [
    "# Создание экземпляра датафрейма\n",
    "df_avanesyan_2 = df_avanesyan_1\n",
    "# Создание экземпляра KNN импьютера\n",
    "imputer = KNNImputer(n_neighbors=5)\n",
    "\n",
    "# Замена пропущенных значений в датафрейме\n",
    "df_avanesyan_2_filled = imputer.fit_transform(df_avanesyan_2)\n",
    "\n",
    "# Преобразование массива данных обратно в датафрейм\n",
    "df_avanesyan_2 = pd.DataFrame(df_avanesyan_2_filled, columns=df_avanesyan_2.columns)"
   ],
   "metadata": {
    "collapsed": false
   }
  },
  {
   "cell_type": "code",
   "execution_count": 24,
   "outputs": [
    {
     "ename": "AttributeError",
     "evalue": "'NoneType' object has no attribute 'describe'",
     "output_type": "error",
     "traceback": [
      "\u001B[1;31m---------------------------------------------------------------------------\u001B[0m",
      "\u001B[1;31mAttributeError\u001B[0m                            Traceback (most recent call last)",
      "Cell \u001B[1;32mIn[24], line 2\u001B[0m\n\u001B[0;32m      1\u001B[0m \u001B[38;5;66;03m# описание min-max значений\u001B[39;00m\n\u001B[1;32m----> 2\u001B[0m \u001B[43mdf_avanesyan\u001B[49m\u001B[38;5;241;43m.\u001B[39;49m\u001B[43mdescribe\u001B[49m()\n",
      "\u001B[1;31mAttributeError\u001B[0m: 'NoneType' object has no attribute 'describe'"
     ]
    }
   ],
   "source": [
    "# описание min-max значений\n",
    "df_avanesyan.describe()"
   ],
   "metadata": {
    "collapsed": false
   }
  },
  {
   "cell_type": "code",
   "execution_count": 25,
   "outputs": [
    {
     "ename": "AttributeError",
     "evalue": "'NoneType' object has no attribute 'corr'",
     "output_type": "error",
     "traceback": [
      "\u001B[1;31m---------------------------------------------------------------------------\u001B[0m",
      "\u001B[1;31mAttributeError\u001B[0m                            Traceback (most recent call last)",
      "Cell \u001B[1;32mIn[25], line 1\u001B[0m\n\u001B[1;32m----> 1\u001B[0m df_corr_matrix \u001B[38;5;241m=\u001B[39m \u001B[43mdf_avanesyan\u001B[49m\u001B[38;5;241;43m.\u001B[39;49m\u001B[43mcorr\u001B[49m(method\u001B[38;5;241m=\u001B[39m\u001B[38;5;124m'\u001B[39m\u001B[38;5;124mspearman\u001B[39m\u001B[38;5;124m'\u001B[39m) \u001B[38;5;66;03m#Это метод корреляции Пирсона\u001B[39;00m\n",
      "\u001B[1;31mAttributeError\u001B[0m: 'NoneType' object has no attribute 'corr'"
     ]
    }
   ],
   "source": [
    "df_corr_matrix = df_avanesyan.corr(method='spearman') #Это метод корреляции Пирсона"
   ],
   "metadata": {
    "collapsed": false
   }
  },
  {
   "cell_type": "code",
   "execution_count": 26,
   "outputs": [
    {
     "ename": "NameError",
     "evalue": "name 'df_corr_matrix' is not defined",
     "output_type": "error",
     "traceback": [
      "\u001B[1;31m---------------------------------------------------------------------------\u001B[0m",
      "\u001B[1;31mNameError\u001B[0m                                 Traceback (most recent call last)",
      "Cell \u001B[1;32mIn[26], line 5\u001B[0m\n\u001B[0;32m      1\u001B[0m \u001B[38;5;66;03m# Это таблица коэффициентов корреляции Пирсона между различными переменными. Она показывает, насколько сильно или слабо связаны между собой различные переменные. Коэффициент корреляции Пирсона может принимать значения от -1 до 1. Если коэффициент равен 1, это означает положительную корреляцию, то есть две переменные движутся в одном направлении. Если коэффициент равен -1, это означает отрицательную корреляцию, то есть две переменные движутся в противоположных направлениях. Если коэффициент равен 0, это означает отсутствие корреляции между переменными.\u001B[39;00m\n\u001B[0;32m      2\u001B[0m \n\u001B[0;32m      3\u001B[0m \u001B[38;5;66;03m# В данной таблице можно увидеть, что возраст, номер и P сильно коррелируют между собой с коэффициентом 0.923331. Пол и Масса при рождении (БП) также коррелируют между собой, но связь в этом случае не такая сильная. Можно использовать эту таблицу, чтобы определить, какие переменные следует использовать для предсказания целевой переменной.\u001B[39;00m\n\u001B[1;32m----> 5\u001B[0m \u001B[43mdf_corr_matrix\u001B[49m\n",
      "\u001B[1;31mNameError\u001B[0m: name 'df_corr_matrix' is not defined"
     ]
    }
   ],
   "source": [
    "# Это таблица коэффициентов корреляции Пирсона между различными переменными. Она показывает, насколько сильно или слабо связаны между собой различные переменные. Коэффициент корреляции Пирсона может принимать значения от -1 до 1. Если коэффициент равен 1, это означает положительную корреляцию, то есть две переменные движутся в одном направлении. Если коэффициент равен -1, это означает отрицательную корреляцию, то есть две переменные движутся в противоположных направлениях. Если коэффициент равен 0, это означает отсутствие корреляции между переменными.\n",
    "\n",
    "# В данной таблице можно увидеть, что возраст, номер и P сильно коррелируют между собой с коэффициентом 0.923331. Пол и Масса при рождении (БП) также коррелируют между собой, но связь в этом случае не такая сильная. Можно использовать эту таблицу, чтобы определить, какие переменные следует использовать для предсказания целевой переменной.\n",
    "\n",
    "df_corr_matrix"
   ],
   "metadata": {
    "collapsed": false
   }
  },
  {
   "cell_type": "code",
   "execution_count": 27,
   "outputs": [
    {
     "name": "stdout",
     "output_type": "stream",
     "text": [
      "<class 'pandas.core.frame.DataFrame'>\n",
      "RangeIndex: 119 entries, 0 to 118\n",
      "Data columns (total 15 columns):\n",
      " #   Column                                                                                                                                                                                                                                                                                                    Non-Null Count  Dtype  \n",
      "---  ------                                                                                                                                                                                                                                                                                                    --------------  -----  \n",
      " 0   Номер                                                                                                                                                                                                                                                                                                     119 non-null    int64  \n",
      " 1   Пол (1 - мужской, 0 - женский)                                                                                                                                                                                                                                                                            117 non-null    float64\n",
      " 2   Возраст                                                                                                                                                                                                                                                                                                   117 non-null    float64\n",
      " 3   P                                                                                                                                                                                                                                                                                                         117 non-null    float64\n",
      " 4   Масса при рождении                                                                                                                                                                                                                                                                                        117 non-null    float64\n",
      " 5   Диагноз (СВДС - 1, ОРВИ - 2, внешние причины - 3)                                                                                                                                                                                                                                                         117 non-null    float64\n",
      " 6   Время года (БП) (1-12 - месяца, 13 - первое полугодие, 14 - второе полугодие)                                                                                                                                                                                                                             117 non-null    float64\n",
      " 7   Масса мозга (БП) (норма - 0)                                                                                                                                                                                                                                                                              117 non-null    float64\n",
      " 8   Вскармливание (БП) (искусственное - 1, грудное - 0)                                                                                                                                                                                                                                                       117 non-null    float64\n",
      " 9   Роды (БП) (0 - первые, 1 - повторные)                                                                                                                                                                                                                                                                     117 non-null    float64\n",
      " 10  Особенности ГМ (БП) (1 -глиозные пролифераты в виде дорожек в стволовых структурах  и мелкоочаговые скопления глиальных элементов под эпендимой боковых желудочков мозга, 0 - нет)                                                                                                                        117 non-null    float64\n",
      " 11  Особенности легких (БП) (2 - десквамация эпителия слизистой, отек и полнокровие стенки трахеи, рыхлая лимфо-лейкоцитарная инфильтрация подслизистого слоя, как проявления серозно-десквамативного трахеобронхита, 1 - утолщение, фиброз и отек стенок легочных артерий, периваскулярный фиброз, 0 - нет)  117 non-null    float64\n",
      " 12  Unnamed: 12                                                                                                                                                                                                                                                                                               0 non-null      float64\n",
      " 13  Особенности сердца (БП) (1 - фиброзные изменения в эндокарде предсердий и межпредсердной перегородки, 0 - нет)                                                                                                                                                                                            117 non-null    float64\n",
      " 14  Ганглии сердца (БП) (1 - фиброзные изменения, 0 - нет)                                                                                                                                                                                                                                                    117 non-null    float64\n",
      "dtypes: float64(14), int64(1)\n",
      "memory usage: 14.1 KB\n"
     ]
    }
   ],
   "source": [
    "# info\n",
    "# общая информация по данным из таблицы\n",
    "df_infants_digital.info()"
   ],
   "metadata": {
    "collapsed": false
   }
  },
  {
   "cell_type": "code",
   "execution_count": null,
   "outputs": [],
   "source": [
    "df_infants_digital"
   ],
   "metadata": {
    "collapsed": false
   }
  },
  {
   "cell_type": "code",
   "execution_count": null,
   "outputs": [],
   "source": [
    "# merge dataframes\n",
    "# слияние данных из таблиц df_avanesyan, df_infants_digital\n",
    "df_work_table = pd.merge(df_avanesyan, df_infants_digital, how='inner')\n",
    "# drop unnamed columns\n",
    "\n",
    "# list of factors\n",
    "# листинг факторов\n",
    "list(df_work_table)"
   ],
   "metadata": {
    "collapsed": false
   }
  },
  {
   "cell_type": "code",
   "execution_count": null,
   "outputs": [],
   "source": [
    "# drop fully unfilled rows\n",
    "# Удаление незаполненных строк\n",
    "df_work_table = df_work_table.dropna(thresh=3)"
   ],
   "metadata": {
    "collapsed": false
   }
  },
  {
   "cell_type": "code",
   "execution_count": null,
   "outputs": [],
   "source": [
    "is_null = df_work_table.isnull()\n",
    "is_null"
   ],
   "metadata": {
    "collapsed": false
   }
  },
  {
   "cell_type": "code",
   "execution_count": null,
   "outputs": [],
   "source": [],
   "metadata": {
    "collapsed": false
   }
  }
 ],
 "metadata": {
  "kernelspec": {
   "display_name": "Python 3",
   "language": "python",
   "name": "python3"
  },
  "language_info": {
   "codemirror_mode": {
    "name": "ipython",
    "version": 2
   },
   "file_extension": ".py",
   "mimetype": "text/x-python",
   "name": "python",
   "nbconvert_exporter": "python",
   "pygments_lexer": "ipython2",
   "version": "2.7.6"
  }
 },
 "nbformat": 4,
 "nbformat_minor": 0
}
