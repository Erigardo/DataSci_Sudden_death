{
 "cells": [
  {
   "cell_type": "markdown",
   "source": [
    "# Linear classification + Bias"
   ],
   "metadata": {
    "collapsed": false
   }
  },
  {
   "cell_type": "markdown",
   "source": [
    "$y = f(\\mathbf{w}\\cdot\\mathbf{x} + b)$ \\\n",
    "$bias = mx + c$"
   ],
   "metadata": {
    "collapsed": false
   }
  },
  {
   "cell_type": "markdown",
   "source": [
    "Этот код создает два класса точек в 2D-пространстве и выполняет простейшую бинарную классификацию точек с помощью перцептрона.\n",
    "\n",
    "После выполнения кода мы увидим график, на котором точки классов будут выделены разными цветами, а решающая граница будет соответствовать прямой `y = -x`.\n",
    "\n",
    "Обратите внимание, что в данном примере бинарная классификация производится только для точек класса `C2`, а точки класса `C1` никак не участвуют в обучении и тестировании\n",
    "перцептронной модели. Этот код служит исключительно для демонстрационных целей и может быть доработан для решения более сложных задач."
   ],
   "metadata": {
    "collapsed": false
   }
  },
  {
   "cell_type": "code",
   "execution_count": 3,
   "outputs": [],
   "source": [
    "# 1. Импортируются библиотеки `numpy` и `matplotlib.pyplot`.\n",
    "import numpy as np\n",
    "import matplotlib.pyplot as plt"
   ],
   "metadata": {
    "collapsed": false
   }
  },
  {
   "cell_type": "code",
   "execution_count": 5,
   "outputs": [
    {
     "name": "stdout",
     "output_type": "stream",
     "text": [
      "Класс C1\n",
      "Класс C1\n",
      "Класс C1\n",
      "Класс C1\n",
      "Класс C1\n"
     ]
    }
   ],
   "source": [
    "N = 5\n",
    "bias = 3\n",
    "# 2. Создаются два класса точек в 2D-пространстве `C1` и `C2` с помощью функции `np.random.random()` библиотеки `numpy`.\n",
    "x1 = np.random.random(N)\n",
    "x2 = x1 + [np.random.randint(10)/10 for i in range(N)] + bias\n",
    "C1 = [x1, x2]\n",
    "\n",
    "x1 = np.random.random(N)\n",
    "x2 = x1 - [np.random.randint(10)/10 for i in range(N)] - 0.1 + bias\n",
    "C2 = [x1, x2]\n",
    "\n",
    "# 3. Задаются начальные значения весов перцептрона и строится решающая граница, используя прямую `y = -x`, заданную через две точки `(0,0)` и `(1,1)`.\n",
    "f = [0 + bias, 1 + bias]\n",
    "w2 = 0.5\n",
    "w3 = -bias*w2\n",
    "\n",
    "# 4. Для каждой точки класса `C2` перцептрон производит классификацию точки с помощью функции `dot()` библиотеки `numpy`\n",
    "# и выводит результирующий классификационный результат в консоль.\n",
    "w = np.array([-w2, w2, w3]) # Весовой коэффицент всегда нуждается в корректировке\n",
    "for i in range(N):\n",
    "    x = np.array([C1[0][i], C1[1][i], 1]) # add bias = 1\n",
    "    y = np.dot(w, x)\n",
    "    if y >= 0:\n",
    "        print(\"Класс C1\")\n",
    "    else:\n",
    "        print(\"Класс C2\")"
   ],
   "metadata": {
    "collapsed": false
   }
  },
  {
   "cell_type": "code",
   "execution_count": 6,
   "outputs": [
    {
     "data": {
      "text/plain": "<Figure size 640x480 with 1 Axes>",
      "image/png": "[encoded data removed]"
     },
     "metadata": {},
     "output_type": "display_data"
    }
   ],
   "source": [
    "# 5. Визуализируются точки классов `C1` и `C2` с помощью функции `scatter()` и решающая граница с помощью функции `plot()`.\n",
    "plt.scatter(C1[0][:], C1[1][:], s=10, c='red')\n",
    "plt.scatter(C2[0][:], C2[1][:], s=10, c='blue')\n",
    "plt.plot(f)\n",
    "plt.grid(True)\n",
    "plt.show()"
   ],
   "metadata": {
    "collapsed": false
   }
  },
  {
   "cell_type": "code",
   "execution_count": null,
   "outputs": [],
   "source": [],
   "metadata": {
    "collapsed": false
   }
  }
 ],
 "metadata": {
  "kernelspec": {
   "display_name": "Python 3",
   "language": "python",
   "name": "python3"
  },
  "language_info": {
   "codemirror_mode": {
    "name": "ipython",
    "version": 2
   },
   "file_extension": ".py",
   "mimetype": "text/x-python",
   "name": "python",
   "nbconvert_exporter": "python",
   "pygments_lexer": "ipython2",
   "version": "2.7.6"
  }
 },
 "nbformat": 4,
 "nbformat_minor": 0
}
